{
 "cells": [
  {
   "cell_type": "markdown",
   "metadata": {},
   "source": [
    "## MovieLens Recommender Systems"
   ]
  },
  {
   "cell_type": "markdown",
   "metadata": {},
   "source": [
    "## Load the dataset"
   ]
  },
  {
   "cell_type": "code",
   "execution_count": 58,
   "metadata": {
    "collapsed": true
   },
   "outputs": [],
   "source": [
    "import os\n",
    "import pandas as pd\n",
    "from surprise import Dataset, Reader, KNNBasic, evaluate, accuracy"
   ]
  },
  {
   "cell_type": "code",
   "execution_count": 150,
   "metadata": {
    "collapsed": true
   },
   "outputs": [],
   "source": [
    "ratings_file = './ml-100k/u.data'"
   ]
  },
  {
   "cell_type": "code",
   "execution_count": 151,
   "metadata": {
    "collapsed": true
   },
   "outputs": [],
   "source": [
    "ratings_df = pd.read_csv( ratings_file, delimiter='\\t', header = None)\n",
    "ratings_df.columns = ['userid', 'movieid', 'rating', 'timestamp']"
   ]
  },
  {
   "cell_type": "code",
   "execution_count": 152,
   "metadata": {},
   "outputs": [
    {
     "data": {
      "text/html": [
       "<div>\n",
       "<table border=\"1\" class=\"dataframe\">\n",
       "  <thead>\n",
       "    <tr style=\"text-align: right;\">\n",
       "      <th></th>\n",
       "      <th>userid</th>\n",
       "      <th>movieid</th>\n",
       "      <th>rating</th>\n",
       "      <th>timestamp</th>\n",
       "    </tr>\n",
       "  </thead>\n",
       "  <tbody>\n",
       "    <tr>\n",
       "      <th>0</th>\n",
       "      <td>196</td>\n",
       "      <td>242</td>\n",
       "      <td>3</td>\n",
       "      <td>881250949</td>\n",
       "    </tr>\n",
       "    <tr>\n",
       "      <th>1</th>\n",
       "      <td>186</td>\n",
       "      <td>302</td>\n",
       "      <td>3</td>\n",
       "      <td>891717742</td>\n",
       "    </tr>\n",
       "    <tr>\n",
       "      <th>2</th>\n",
       "      <td>22</td>\n",
       "      <td>377</td>\n",
       "      <td>1</td>\n",
       "      <td>878887116</td>\n",
       "    </tr>\n",
       "    <tr>\n",
       "      <th>3</th>\n",
       "      <td>244</td>\n",
       "      <td>51</td>\n",
       "      <td>2</td>\n",
       "      <td>880606923</td>\n",
       "    </tr>\n",
       "    <tr>\n",
       "      <th>4</th>\n",
       "      <td>166</td>\n",
       "      <td>346</td>\n",
       "      <td>1</td>\n",
       "      <td>886397596</td>\n",
       "    </tr>\n",
       "    <tr>\n",
       "      <th>5</th>\n",
       "      <td>298</td>\n",
       "      <td>474</td>\n",
       "      <td>4</td>\n",
       "      <td>884182806</td>\n",
       "    </tr>\n",
       "    <tr>\n",
       "      <th>6</th>\n",
       "      <td>115</td>\n",
       "      <td>265</td>\n",
       "      <td>2</td>\n",
       "      <td>881171488</td>\n",
       "    </tr>\n",
       "    <tr>\n",
       "      <th>7</th>\n",
       "      <td>253</td>\n",
       "      <td>465</td>\n",
       "      <td>5</td>\n",
       "      <td>891628467</td>\n",
       "    </tr>\n",
       "    <tr>\n",
       "      <th>8</th>\n",
       "      <td>305</td>\n",
       "      <td>451</td>\n",
       "      <td>3</td>\n",
       "      <td>886324817</td>\n",
       "    </tr>\n",
       "    <tr>\n",
       "      <th>9</th>\n",
       "      <td>6</td>\n",
       "      <td>86</td>\n",
       "      <td>3</td>\n",
       "      <td>883603013</td>\n",
       "    </tr>\n",
       "  </tbody>\n",
       "</table>\n",
       "</div>"
      ],
      "text/plain": [
       "   userid  movieid  rating  timestamp\n",
       "0     196      242       3  881250949\n",
       "1     186      302       3  891717742\n",
       "2      22      377       1  878887116\n",
       "3     244       51       2  880606923\n",
       "4     166      346       1  886397596\n",
       "5     298      474       4  884182806\n",
       "6     115      265       2  881171488\n",
       "7     253      465       5  891628467\n",
       "8     305      451       3  886324817\n",
       "9       6       86       3  883603013"
      ]
     },
     "execution_count": 152,
     "metadata": {},
     "output_type": "execute_result"
    }
   ],
   "source": [
    "ratings_df.head(10)"
   ]
  },
  {
   "cell_type": "markdown",
   "metadata": {},
   "source": [
    "### Convert to required dataset"
   ]
  },
  {
   "cell_type": "code",
   "execution_count": 28,
   "metadata": {
    "collapsed": true
   },
   "outputs": [],
   "source": [
    "reader = Reader(rating_scale=(1, 5))"
   ]
  },
  {
   "cell_type": "code",
   "execution_count": 29,
   "metadata": {
    "collapsed": true
   },
   "outputs": [],
   "source": [
    "data = Dataset.load_from_df(ratings_df[['userid', \n",
    "                                        'movieid', \n",
    "                                        'rating']], reader=reader)"
   ]
  },
  {
   "cell_type": "code",
   "execution_count": 31,
   "metadata": {},
   "outputs": [
    {
     "data": {
      "text/html": [
       "<div>\n",
       "<table border=\"1\" class=\"dataframe\">\n",
       "  <thead>\n",
       "    <tr style=\"text-align: right;\">\n",
       "      <th></th>\n",
       "      <th>userid</th>\n",
       "      <th>movieid</th>\n",
       "      <th>rating</th>\n",
       "    </tr>\n",
       "  </thead>\n",
       "  <tbody>\n",
       "    <tr>\n",
       "      <th>0</th>\n",
       "      <td>196</td>\n",
       "      <td>242</td>\n",
       "      <td>3</td>\n",
       "    </tr>\n",
       "    <tr>\n",
       "      <th>1</th>\n",
       "      <td>186</td>\n",
       "      <td>302</td>\n",
       "      <td>3</td>\n",
       "    </tr>\n",
       "    <tr>\n",
       "      <th>2</th>\n",
       "      <td>22</td>\n",
       "      <td>377</td>\n",
       "      <td>1</td>\n",
       "    </tr>\n",
       "    <tr>\n",
       "      <th>3</th>\n",
       "      <td>244</td>\n",
       "      <td>51</td>\n",
       "      <td>2</td>\n",
       "    </tr>\n",
       "    <tr>\n",
       "      <th>4</th>\n",
       "      <td>166</td>\n",
       "      <td>346</td>\n",
       "      <td>1</td>\n",
       "    </tr>\n",
       "    <tr>\n",
       "      <th>5</th>\n",
       "      <td>298</td>\n",
       "      <td>474</td>\n",
       "      <td>4</td>\n",
       "    </tr>\n",
       "    <tr>\n",
       "      <th>6</th>\n",
       "      <td>115</td>\n",
       "      <td>265</td>\n",
       "      <td>2</td>\n",
       "    </tr>\n",
       "    <tr>\n",
       "      <th>7</th>\n",
       "      <td>253</td>\n",
       "      <td>465</td>\n",
       "      <td>5</td>\n",
       "    </tr>\n",
       "    <tr>\n",
       "      <th>8</th>\n",
       "      <td>305</td>\n",
       "      <td>451</td>\n",
       "      <td>3</td>\n",
       "    </tr>\n",
       "    <tr>\n",
       "      <th>9</th>\n",
       "      <td>6</td>\n",
       "      <td>86</td>\n",
       "      <td>3</td>\n",
       "    </tr>\n",
       "  </tbody>\n",
       "</table>\n",
       "</div>"
      ],
      "text/plain": [
       "   userid  movieid  rating\n",
       "0     196      242       3\n",
       "1     186      302       3\n",
       "2      22      377       1\n",
       "3     244       51       2\n",
       "4     166      346       1\n",
       "5     298      474       4\n",
       "6     115      265       2\n",
       "7     253      465       5\n",
       "8     305      451       3\n",
       "9       6       86       3"
      ]
     },
     "execution_count": 31,
     "metadata": {},
     "output_type": "execute_result"
    }
   ],
   "source": [
    "data.df[0:10]"
   ]
  },
  {
   "cell_type": "markdown",
   "metadata": {},
   "source": [
    "## User Based Cosine Similarity Algorithm"
   ]
  },
  {
   "cell_type": "code",
   "execution_count": 69,
   "metadata": {
    "collapsed": true
   },
   "outputs": [],
   "source": [
    "data.split(2)"
   ]
  },
  {
   "cell_type": "code",
   "execution_count": 70,
   "metadata": {
    "collapsed": true
   },
   "outputs": [],
   "source": [
    "user_based_cosine_sim = {'name': 'cosine', \n",
    "                         'user_based': True}\n",
    "\n",
    "knn = KNNBasic(sim_options=user_based_cosine_sim)"
   ]
  },
  {
   "cell_type": "code",
   "execution_count": 71,
   "metadata": {},
   "outputs": [
    {
     "name": "stdout",
     "output_type": "stream",
     "text": [
      "Computing the cosine similarity matrix...\n",
      "Done computing similarity matrix.\n",
      "RMSE: 1.0266\n",
      "Computing the cosine similarity matrix...\n",
      "Done computing similarity matrix.\n",
      "RMSE: 1.0299\n"
     ]
    }
   ],
   "source": [
    "for trainset, testset in data.folds():\n",
    "\n",
    "    # train and test algorithm.\n",
    "    knn.train(trainset)\n",
    "    predictions = knn.test(testset)\n",
    "\n",
    "    # Compute and print Root Mean Squared Error\n",
    "    rmse = accuracy.rmse(predictions, verbose=True)"
   ]
  },
  {
   "cell_type": "markdown",
   "metadata": {},
   "source": [
    "## Item Based Cosine Similarity Algorithm"
   ]
  },
  {
   "cell_type": "code",
   "execution_count": 73,
   "metadata": {
    "collapsed": true
   },
   "outputs": [],
   "source": [
    "item_based_consine_sim = sim_options = {'name': 'cosine', \n",
    "                                        'user_based': False}\n",
    "\n",
    "knn = KNNBasic(sim_options=item_based_consine_sim)"
   ]
  },
  {
   "cell_type": "code",
   "execution_count": 74,
   "metadata": {},
   "outputs": [
    {
     "name": "stdout",
     "output_type": "stream",
     "text": [
      "Computing the cosine similarity matrix...\n",
      "Done computing similarity matrix.\n",
      "RMSE: 1.0494\n",
      "Computing the cosine similarity matrix...\n",
      "Done computing similarity matrix.\n",
      "RMSE: 1.0506\n"
     ]
    }
   ],
   "source": [
    "for trainset, testset in data.folds():\n",
    "\n",
    "    # train and test algorithm.\n",
    "    knn.train(trainset)\n",
    "    predictions = knn.test(testset)\n",
    "\n",
    "    # Compute and print Root Mean Squared Error\n",
    "    rmse = accuracy.rmse(predictions, verbose=True)"
   ]
  },
  {
   "cell_type": "markdown",
   "metadata": {},
   "source": [
    "### Using Evaluate"
   ]
  },
  {
   "cell_type": "code",
   "execution_count": 66,
   "metadata": {
    "collapsed": true
   },
   "outputs": [],
   "source": [
    "data.split(5)"
   ]
  },
  {
   "cell_type": "code",
   "execution_count": 76,
   "metadata": {
    "collapsed": true
   },
   "outputs": [],
   "source": [
    "knn_basic = KNNBasic(sim_options=item_based_consine_sim)"
   ]
  },
  {
   "cell_type": "code",
   "execution_count": 77,
   "metadata": {},
   "outputs": [
    {
     "name": "stdout",
     "output_type": "stream",
     "text": [
      "Evaluating RMSE, MAE of algorithm KNNBasic.\n",
      "\n",
      "------------\n",
      "Fold 1\n",
      "Computing the cosine similarity matrix...\n",
      "Done computing similarity matrix.\n",
      "RMSE: 1.0494\n",
      "MAE:  0.8361\n",
      "------------\n",
      "Fold 2\n",
      "Computing the cosine similarity matrix...\n",
      "Done computing similarity matrix.\n",
      "RMSE: 1.0506\n",
      "MAE:  0.8378\n",
      "------------\n",
      "------------\n",
      "Mean RMSE: 1.0500\n",
      "Mean MAE : 0.8370\n",
      "------------\n",
      "------------\n"
     ]
    },
    {
     "data": {
      "text/plain": [
       "CaseInsensitiveDefaultDict(list,\n",
       "                           {'mae': [0.83614763769849121, 0.83780877256996711],\n",
       "                            'rmse': [1.0493943771260412, 1.0505824890850979]})"
      ]
     },
     "execution_count": 77,
     "metadata": {},
     "output_type": "execute_result"
    }
   ],
   "source": [
    "evaluate(knn_basic, data, measures=['RMSE', 'MAE'])"
   ]
  },
  {
   "cell_type": "markdown",
   "metadata": {},
   "source": [
    "## Using SVD"
   ]
  },
  {
   "cell_type": "code",
   "execution_count": 79,
   "metadata": {
    "collapsed": true
   },
   "outputs": [],
   "source": [
    "from surprise import SVD"
   ]
  },
  {
   "cell_type": "code",
   "execution_count": 81,
   "metadata": {
    "collapsed": true
   },
   "outputs": [],
   "source": [
    "data.split(5)"
   ]
  },
  {
   "cell_type": "code",
   "execution_count": 82,
   "metadata": {},
   "outputs": [
    {
     "name": "stdout",
     "output_type": "stream",
     "text": [
      "Evaluating RMSE, MAE of algorithm SVD.\n",
      "\n",
      "------------\n",
      "Fold 1\n",
      "RMSE: 0.9339\n",
      "MAE:  0.7348\n",
      "------------\n",
      "Fold 2\n",
      "RMSE: 0.9341\n",
      "MAE:  0.7362\n",
      "------------\n",
      "Fold 3\n",
      "RMSE: 0.9389\n",
      "MAE:  0.7392\n",
      "------------\n",
      "Fold 4\n",
      "RMSE: 0.9384\n",
      "MAE:  0.7419\n",
      "------------\n",
      "Fold 5\n",
      "RMSE: 0.9315\n",
      "MAE:  0.7354\n",
      "------------\n",
      "------------\n",
      "Mean RMSE: 0.9353\n",
      "Mean MAE : 0.7375\n",
      "------------\n",
      "------------\n"
     ]
    },
    {
     "data": {
      "text/plain": [
       "CaseInsensitiveDefaultDict(list,\n",
       "                           {'mae': [0.73484914539801016,\n",
       "                             0.73621647782410726,\n",
       "                             0.73920333350691902,\n",
       "                             0.74191748525867474,\n",
       "                             0.73535012901913277],\n",
       "                            'rmse': [0.93388608642318149,\n",
       "                             0.934074712912775,\n",
       "                             0.93893310352521386,\n",
       "                             0.93835124327064889,\n",
       "                             0.93146011802383866]})"
      ]
     },
     "execution_count": 82,
     "metadata": {},
     "output_type": "execute_result"
    }
   ],
   "source": [
    "svd = SVD()\n",
    "evaluate(svd, data, measures=['RMSE', 'MAE'])"
   ]
  },
  {
   "cell_type": "markdown",
   "metadata": {},
   "source": [
    "## Build the final model"
   ]
  },
  {
   "cell_type": "code",
   "execution_count": 83,
   "metadata": {
    "collapsed": true
   },
   "outputs": [],
   "source": [
    "# Retrieve the trainset.\n",
    "trainset = data.build_full_trainset()\n",
    "svd.train(trainset)"
   ]
  },
  {
   "cell_type": "markdown",
   "metadata": {},
   "source": [
    "## Make Prediction"
   ]
  },
  {
   "cell_type": "code",
   "execution_count": 87,
   "metadata": {},
   "outputs": [
    {
     "name": "stdout",
     "output_type": "stream",
     "text": [
      "user: 196        item: 302        r_ui = None   est = 4.26   {'was_impossible': False}\n"
     ]
    }
   ],
   "source": [
    "userid = str(196)\n",
    "itemid = str(302)\n",
    "print( svd.predict(userid, 302) )"
   ]
  },
  {
   "cell_type": "markdown",
   "metadata": {},
   "source": [
    "## Load the movies data"
   ]
  },
  {
   "cell_type": "code",
   "execution_count": 153,
   "metadata": {
    "collapsed": true
   },
   "outputs": [],
   "source": [
    "movies_file = './ml-100k/u.item'"
   ]
  },
  {
   "cell_type": "code",
   "execution_count": 154,
   "metadata": {},
   "outputs": [
    {
     "name": "stderr",
     "output_type": "stream",
     "text": [
      "/Users/manaranjan/anaconda/lib/python3.5/site-packages/ipykernel/__main__.py:1: ParserWarning: Falling back to the 'python' engine because the 'c' engine does not support regex separators (separators > 1 char and different from '\\s+' are interpreted as regex); you can avoid this warning by specifying engine='python'.\n",
      "  if __name__ == '__main__':\n"
     ]
    }
   ],
   "source": [
    "movies_df = pd.read_csv( movies_file, delimiter = '\\|', header = None )\n",
    "movies_df = movies_df.iloc[:,:2]\n",
    "movies_df.columns = ['movieid', 'title']"
   ]
  },
  {
   "cell_type": "code",
   "execution_count": 155,
   "metadata": {},
   "outputs": [
    {
     "data": {
      "text/html": [
       "<div>\n",
       "<table border=\"1\" class=\"dataframe\">\n",
       "  <thead>\n",
       "    <tr style=\"text-align: right;\">\n",
       "      <th></th>\n",
       "      <th>movieid</th>\n",
       "      <th>title</th>\n",
       "    </tr>\n",
       "  </thead>\n",
       "  <tbody>\n",
       "    <tr>\n",
       "      <th>0</th>\n",
       "      <td>1</td>\n",
       "      <td>Toy Story (1995)</td>\n",
       "    </tr>\n",
       "    <tr>\n",
       "      <th>1</th>\n",
       "      <td>2</td>\n",
       "      <td>GoldenEye (1995)</td>\n",
       "    </tr>\n",
       "    <tr>\n",
       "      <th>2</th>\n",
       "      <td>3</td>\n",
       "      <td>Four Rooms (1995)</td>\n",
       "    </tr>\n",
       "    <tr>\n",
       "      <th>3</th>\n",
       "      <td>4</td>\n",
       "      <td>Get Shorty (1995)</td>\n",
       "    </tr>\n",
       "    <tr>\n",
       "      <th>4</th>\n",
       "      <td>5</td>\n",
       "      <td>Copycat (1995)</td>\n",
       "    </tr>\n",
       "    <tr>\n",
       "      <th>5</th>\n",
       "      <td>6</td>\n",
       "      <td>Shanghai Triad (Yao a yao yao dao waipo qiao) ...</td>\n",
       "    </tr>\n",
       "    <tr>\n",
       "      <th>6</th>\n",
       "      <td>7</td>\n",
       "      <td>Twelve Monkeys (1995)</td>\n",
       "    </tr>\n",
       "    <tr>\n",
       "      <th>7</th>\n",
       "      <td>8</td>\n",
       "      <td>Babe (1995)</td>\n",
       "    </tr>\n",
       "    <tr>\n",
       "      <th>8</th>\n",
       "      <td>9</td>\n",
       "      <td>Dead Man Walking (1995)</td>\n",
       "    </tr>\n",
       "    <tr>\n",
       "      <th>9</th>\n",
       "      <td>10</td>\n",
       "      <td>Richard III (1995)</td>\n",
       "    </tr>\n",
       "  </tbody>\n",
       "</table>\n",
       "</div>"
      ],
      "text/plain": [
       "   movieid                                              title\n",
       "0        1                                   Toy Story (1995)\n",
       "1        2                                   GoldenEye (1995)\n",
       "2        3                                  Four Rooms (1995)\n",
       "3        4                                  Get Shorty (1995)\n",
       "4        5                                     Copycat (1995)\n",
       "5        6  Shanghai Triad (Yao a yao yao dao waipo qiao) ...\n",
       "6        7                              Twelve Monkeys (1995)\n",
       "7        8                                        Babe (1995)\n",
       "8        9                            Dead Man Walking (1995)\n",
       "9       10                                 Richard III (1995)"
      ]
     },
     "execution_count": 155,
     "metadata": {},
     "output_type": "execute_result"
    }
   ],
   "source": [
    "movies_df.head(10)"
   ]
  },
  {
   "cell_type": "code",
   "execution_count": 156,
   "metadata": {
    "collapsed": true
   },
   "outputs": [],
   "source": [
    "movies_dict = dict(zip(movies_df.movieid, movies_df.title))"
   ]
  },
  {
   "cell_type": "markdown",
   "metadata": {},
   "source": [
    "### Finding which user has not watched which movie"
   ]
  },
  {
   "cell_type": "code",
   "execution_count": 157,
   "metadata": {
    "collapsed": true
   },
   "outputs": [],
   "source": [
    "testset = trainset.build_anti_testset()"
   ]
  },
  {
   "cell_type": "code",
   "execution_count": 158,
   "metadata": {
    "collapsed": true
   },
   "outputs": [],
   "source": [
    "predictions = svd.test(testset)"
   ]
  },
  {
   "cell_type": "code",
   "execution_count": 121,
   "metadata": {},
   "outputs": [
    {
     "data": {
      "text/plain": [
       "[Prediction(uid=416, iid=679, r_ui=3.5298600000000002, est=2.9417780922715462, details={'was_impossible': False}),\n",
       " Prediction(uid=416, iid=435, r_ui=3.5298600000000002, est=4.4026283585092099, details={'was_impossible': False}),\n",
       " Prediction(uid=416, iid=508, r_ui=3.5298600000000002, est=3.4650718988401277, details={'was_impossible': False}),\n",
       " Prediction(uid=416, iid=208, r_ui=3.5298600000000002, est=3.9074376341060644, details={'was_impossible': False}),\n",
       " Prediction(uid=416, iid=1124, r_ui=3.5298600000000002, est=4.0093064005301793, details={'was_impossible': False}),\n",
       " Prediction(uid=416, iid=129, r_ui=3.5298600000000002, est=4.3106905047122908, details={'was_impossible': False}),\n",
       " Prediction(uid=416, iid=270, r_ui=3.5298600000000002, est=4.1414382141776036, details={'was_impossible': False}),\n",
       " Prediction(uid=416, iid=408, r_ui=3.5298600000000002, est=4.2879553219756241, details={'was_impossible': False}),\n",
       " Prediction(uid=416, iid=523, r_ui=3.5298600000000002, est=4.4971254226464792, details={'was_impossible': False}),\n",
       " Prediction(uid=416, iid=262, r_ui=3.5298600000000002, est=4.0028362436058034, details={'was_impossible': False})]"
      ]
     },
     "execution_count": 121,
     "metadata": {},
     "output_type": "execute_result"
    }
   ],
   "source": [
    "predictions[0:10]"
   ]
  },
  {
   "cell_type": "code",
   "execution_count": 140,
   "metadata": {
    "collapsed": true
   },
   "outputs": [],
   "source": [
    "prediction_df = pd.DataFrame(predictions, columns=['userid', 'movieid', 'r_ui', 'p_rating', 'details'])"
   ]
  },
  {
   "cell_type": "code",
   "execution_count": 148,
   "metadata": {
    "collapsed": true
   },
   "outputs": [],
   "source": [
    "def get_user_prediction( userid, predictions, n ):\n",
    "    top_movies_watched = ratings_df[ratings_df.userid == userid].sort_values('rating', ascending = False)[0:10]\n",
    "    print('TOP MOVIES WATCHED BY USER')\n",
    "    print('--------------------------')    \n",
    "    top_movies_watched.apply( lambda rec: print( movies_dict[rec.movieid], \" : \",rec.rating), axis = 1)\n",
    "    top_movies_recommended = predictions[predictions.userid == userid].sort_values('p_rating', ascending = False)[0:n]\n",
    "    print('TOP MOVIES RECOMMENDED FOR USER')    \n",
    "    print('-------------------------------')        \n",
    "    top_movies_recommended.apply( lambda rec: print( movies_dict[rec.movieid], \" : \",round(rec.p_rating, 2)), axis = 1)"
   ]
  },
  {
   "cell_type": "code",
   "execution_count": 149,
   "metadata": {},
   "outputs": [
    {
     "name": "stdout",
     "output_type": "stream",
     "text": [
      "TOP MOVIES WATCHED BY USER\n",
      "--------------------------\n",
      "Fan, The (1996)  :  5\n",
      "Chasing Amy (1997)  :  5\n",
      "Trigger Effect, The (1996)  :  5\n",
      "Hoodlum (1997)  :  5\n",
      "Career Girls (1997)  :  5\n",
      "Men in Black (1997)  :  5\n",
      "Contact (1997)  :  5\n",
      "A Chef in Love (1996)  :  5\n",
      "My Best Friend's Wedding (1997)  :  5\n",
      "Star Wars (1977)  :  5\n",
      "TOP MOVIES RECOMMENDED FOR USER\n",
      "-------------------------------\n",
      "Princess Bride, The (1987)  :  4.98\n",
      "Raiders of the Lost Ark (1981)  :  4.96\n",
      "Close Shave, A (1995)  :  4.95\n",
      "Great Escape, The (1963)  :  4.92\n",
      "Rear Window (1954)  :  4.89\n",
      "Empire Strikes Back, The (1980)  :  4.88\n",
      "Secrets & Lies (1996)  :  4.88\n",
      "Wrong Trousers, The (1993)  :  4.87\n",
      "Bridge on the River Kwai, The (1957)  :  4.85\n",
      "North by Northwest (1959)  :  4.84\n"
     ]
    }
   ],
   "source": [
    "get_user_prediction( 113, prediction_df, 10)"
   ]
  },
  {
   "cell_type": "code",
   "execution_count": null,
   "metadata": {
    "collapsed": true
   },
   "outputs": [],
   "source": []
  }
 ],
 "metadata": {
  "kernelspec": {
   "display_name": "Python 3",
   "language": "python",
   "name": "python3"
  },
  "language_info": {
   "codemirror_mode": {
    "name": "ipython",
    "version": 3
   },
   "file_extension": ".py",
   "mimetype": "text/x-python",
   "name": "python",
   "nbconvert_exporter": "python",
   "pygments_lexer": "ipython3",
   "version": "3.6.1"
  },
  "toc": {
   "nav_menu": {},
   "number_sections": true,
   "sideBar": true,
   "skip_h1_title": false,
   "toc_cell": false,
   "toc_position": {},
   "toc_section_display": "block",
   "toc_window_display": false
  }
 },
 "nbformat": 4,
 "nbformat_minor": 2
}
