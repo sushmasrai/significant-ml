{
 "cells": [
  {
   "cell_type": "code",
   "execution_count": 92,
   "metadata": {
    "collapsed": true
   },
   "outputs": [],
   "source": [
    "import pandas as pd\n",
    "import numpy as np"
   ]
  },
  {
   "cell_type": "code",
   "execution_count": 93,
   "metadata": {
    "collapsed": true
   },
   "outputs": [],
   "source": [
    "## TODO: Fill the dataset filename\n",
    "credit_df = pd.read_csv( '../data/bank.csv' )"
   ]
  },
  {
   "cell_type": "code",
   "execution_count": 94,
   "metadata": {},
   "outputs": [
    {
     "data": {
      "text/html": [
       "<div>\n",
       "<style>\n",
       "    .dataframe thead tr:only-child th {\n",
       "        text-align: right;\n",
       "    }\n",
       "\n",
       "    .dataframe thead th {\n",
       "        text-align: left;\n",
       "    }\n",
       "\n",
       "    .dataframe tbody tr th {\n",
       "        vertical-align: top;\n",
       "    }\n",
       "</style>\n",
       "<table border=\"1\" class=\"dataframe\">\n",
       "  <thead>\n",
       "    <tr style=\"text-align: right;\">\n",
       "      <th></th>\n",
       "      <th>age</th>\n",
       "      <th>job</th>\n",
       "      <th>marital</th>\n",
       "      <th>education</th>\n",
       "      <th>default</th>\n",
       "      <th>balance</th>\n",
       "      <th>housing-loan</th>\n",
       "      <th>personal-loan</th>\n",
       "      <th>current-campaign</th>\n",
       "      <th>previous-campaign</th>\n",
       "      <th>subscribed</th>\n",
       "    </tr>\n",
       "  </thead>\n",
       "  <tbody>\n",
       "    <tr>\n",
       "      <th>0</th>\n",
       "      <td>30</td>\n",
       "      <td>unemployed</td>\n",
       "      <td>married</td>\n",
       "      <td>primary</td>\n",
       "      <td>no</td>\n",
       "      <td>1787</td>\n",
       "      <td>no</td>\n",
       "      <td>no</td>\n",
       "      <td>1</td>\n",
       "      <td>0</td>\n",
       "      <td>0</td>\n",
       "    </tr>\n",
       "    <tr>\n",
       "      <th>1</th>\n",
       "      <td>33</td>\n",
       "      <td>services</td>\n",
       "      <td>married</td>\n",
       "      <td>secondary</td>\n",
       "      <td>no</td>\n",
       "      <td>4789</td>\n",
       "      <td>yes</td>\n",
       "      <td>yes</td>\n",
       "      <td>1</td>\n",
       "      <td>4</td>\n",
       "      <td>0</td>\n",
       "    </tr>\n",
       "    <tr>\n",
       "      <th>2</th>\n",
       "      <td>35</td>\n",
       "      <td>management</td>\n",
       "      <td>single</td>\n",
       "      <td>tertiary</td>\n",
       "      <td>no</td>\n",
       "      <td>1350</td>\n",
       "      <td>yes</td>\n",
       "      <td>no</td>\n",
       "      <td>1</td>\n",
       "      <td>1</td>\n",
       "      <td>0</td>\n",
       "    </tr>\n",
       "    <tr>\n",
       "      <th>3</th>\n",
       "      <td>30</td>\n",
       "      <td>management</td>\n",
       "      <td>married</td>\n",
       "      <td>tertiary</td>\n",
       "      <td>no</td>\n",
       "      <td>1476</td>\n",
       "      <td>yes</td>\n",
       "      <td>yes</td>\n",
       "      <td>4</td>\n",
       "      <td>0</td>\n",
       "      <td>0</td>\n",
       "    </tr>\n",
       "    <tr>\n",
       "      <th>4</th>\n",
       "      <td>59</td>\n",
       "      <td>blue-collar</td>\n",
       "      <td>married</td>\n",
       "      <td>secondary</td>\n",
       "      <td>no</td>\n",
       "      <td>0</td>\n",
       "      <td>yes</td>\n",
       "      <td>no</td>\n",
       "      <td>1</td>\n",
       "      <td>0</td>\n",
       "      <td>0</td>\n",
       "    </tr>\n",
       "  </tbody>\n",
       "</table>\n",
       "</div>"
      ],
      "text/plain": [
       "   age          job  marital  education default  balance housing-loan  \\\n",
       "0   30   unemployed  married    primary      no     1787           no   \n",
       "1   33     services  married  secondary      no     4789          yes   \n",
       "2   35   management   single   tertiary      no     1350          yes   \n",
       "3   30   management  married   tertiary      no     1476          yes   \n",
       "4   59  blue-collar  married  secondary      no        0          yes   \n",
       "\n",
       "  personal-loan  current-campaign  previous-campaign  subscribed  \n",
       "0            no                 1                  0           0  \n",
       "1           yes                 1                  4           0  \n",
       "2            no                 1                  1           0  \n",
       "3           yes                 4                  0           0  \n",
       "4            no                 1                  0           0  "
      ]
     },
     "execution_count": 94,
     "metadata": {},
     "output_type": "execute_result"
    }
   ],
   "source": [
    "credit_df[0:5]"
   ]
  },
  {
   "cell_type": "code",
   "execution_count": 95,
   "metadata": {},
   "outputs": [
    {
     "name": "stdout",
     "output_type": "stream",
     "text": [
      "<class 'pandas.core.frame.DataFrame'>\n",
      "RangeIndex: 4521 entries, 0 to 4520\n",
      "Data columns (total 11 columns):\n",
      "age                  4521 non-null int64\n",
      "job                  4521 non-null object\n",
      "marital              4521 non-null object\n",
      "education            4521 non-null object\n",
      "default              4521 non-null object\n",
      "balance              4521 non-null int64\n",
      "housing-loan         4521 non-null object\n",
      "personal-loan        4521 non-null object\n",
      "current-campaign     4521 non-null int64\n",
      "previous-campaign    4521 non-null int64\n",
      "subscribed           4521 non-null int64\n",
      "dtypes: int64(5), object(6)\n",
      "memory usage: 388.6+ KB\n"
     ]
    }
   ],
   "source": [
    "credit_df.info()"
   ]
  },
  {
   "cell_type": "code",
   "execution_count": 96,
   "metadata": {
    "collapsed": true
   },
   "outputs": [],
   "source": [
    "default = credit_df[credit_df.subscribed == 0]"
   ]
  },
  {
   "cell_type": "code",
   "execution_count": 97,
   "metadata": {},
   "outputs": [
    {
     "data": {
      "text/plain": [
       "['age',\n",
       " 'job',\n",
       " 'marital',\n",
       " 'education',\n",
       " 'default',\n",
       " 'balance',\n",
       " 'housing-loan',\n",
       " 'personal-loan',\n",
       " 'current-campaign',\n",
       " 'previous-campaign',\n",
       " 'subscribed']"
      ]
     },
     "execution_count": 97,
     "metadata": {},
     "output_type": "execute_result"
    }
   ],
   "source": [
    "list( credit_df.columns )"
   ]
  },
  {
   "cell_type": "code",
   "execution_count": 98,
   "metadata": {},
   "outputs": [
    {
     "data": {
      "text/plain": [
       "['age',\n",
       " 'job',\n",
       " 'marital',\n",
       " 'education',\n",
       " 'default',\n",
       " 'balance',\n",
       " 'housing-loan',\n",
       " 'personal-loan',\n",
       " 'current-campaign',\n",
       " 'previous-campaign']"
      ]
     },
     "execution_count": 98,
     "metadata": {},
     "output_type": "execute_result"
    }
   ],
   "source": [
    "X_features = list( credit_df.columns )\n",
    "X_features.remove( 'subscribed' )\n",
    "X_features"
   ]
  },
  {
   "cell_type": "code",
   "execution_count": 99,
   "metadata": {
    "collapsed": true
   },
   "outputs": [],
   "source": [
    "## TODO : Create dummy features\n",
    "encoded_credit_df = pd.get_dummies(credit_df[X_features] , drop_first= True)"
   ]
  },
  {
   "cell_type": "code",
   "execution_count": 100,
   "metadata": {},
   "outputs": [
    {
     "data": {
      "text/plain": [
       "Index(['age', 'balance', 'current-campaign', 'previous-campaign',\n",
       "       'job_blue-collar', 'job_entrepreneur', 'job_housemaid',\n",
       "       'job_management', 'job_retired', 'job_self-employed', 'job_services',\n",
       "       'job_student', 'job_technician', 'job_unemployed', 'job_unknown',\n",
       "       'marital_married', 'marital_single', 'education_secondary',\n",
       "       'education_tertiary', 'education_unknown', 'default_yes',\n",
       "       'housing-loan_yes', 'personal-loan_yes'],\n",
       "      dtype='object')"
      ]
     },
     "execution_count": 100,
     "metadata": {},
     "output_type": "execute_result"
    }
   ],
   "source": [
    "encoded_credit_df.columns"
   ]
  },
  {
   "cell_type": "code",
   "execution_count": 101,
   "metadata": {
    "collapsed": true
   },
   "outputs": [],
   "source": [
    "Y = credit_df.subscribed\n",
    "X = encoded_credit_df"
   ]
  },
  {
   "cell_type": "code",
   "execution_count": 102,
   "metadata": {
    "collapsed": true
   },
   "outputs": [],
   "source": [
    "from sklearn.model_selection import train_test_split\n",
    "\n",
    "## TODO: Split the dataset into train and test\n",
    "X_train, X_test, y_train, y_test = train_test_split(X, Y, test_size= 0.3 , random_state = 42)"
   ]
  },
  {
   "cell_type": "code",
   "execution_count": 103,
   "metadata": {},
   "outputs": [
    {
     "data": {
      "text/html": [
       "<div>\n",
       "<style>\n",
       "    .dataframe thead tr:only-child th {\n",
       "        text-align: right;\n",
       "    }\n",
       "\n",
       "    .dataframe thead th {\n",
       "        text-align: left;\n",
       "    }\n",
       "\n",
       "    .dataframe tbody tr th {\n",
       "        vertical-align: top;\n",
       "    }\n",
       "</style>\n",
       "<table border=\"1\" class=\"dataframe\">\n",
       "  <thead>\n",
       "    <tr style=\"text-align: right;\">\n",
       "      <th></th>\n",
       "      <th>age</th>\n",
       "      <th>balance</th>\n",
       "      <th>current-campaign</th>\n",
       "      <th>previous-campaign</th>\n",
       "      <th>job_blue-collar</th>\n",
       "      <th>job_entrepreneur</th>\n",
       "      <th>job_housemaid</th>\n",
       "      <th>job_management</th>\n",
       "      <th>job_retired</th>\n",
       "      <th>job_self-employed</th>\n",
       "      <th>...</th>\n",
       "      <th>job_unemployed</th>\n",
       "      <th>job_unknown</th>\n",
       "      <th>marital_married</th>\n",
       "      <th>marital_single</th>\n",
       "      <th>education_secondary</th>\n",
       "      <th>education_tertiary</th>\n",
       "      <th>education_unknown</th>\n",
       "      <th>default_yes</th>\n",
       "      <th>housing-loan_yes</th>\n",
       "      <th>personal-loan_yes</th>\n",
       "    </tr>\n",
       "  </thead>\n",
       "  <tbody>\n",
       "    <tr>\n",
       "      <th>4153</th>\n",
       "      <td>42</td>\n",
       "      <td>440</td>\n",
       "      <td>5</td>\n",
       "      <td>0</td>\n",
       "      <td>0</td>\n",
       "      <td>0</td>\n",
       "      <td>0</td>\n",
       "      <td>0</td>\n",
       "      <td>0</td>\n",
       "      <td>0</td>\n",
       "      <td>...</td>\n",
       "      <td>0</td>\n",
       "      <td>0</td>\n",
       "      <td>1</td>\n",
       "      <td>0</td>\n",
       "      <td>1</td>\n",
       "      <td>0</td>\n",
       "      <td>0</td>\n",
       "      <td>0</td>\n",
       "      <td>1</td>\n",
       "      <td>0</td>\n",
       "    </tr>\n",
       "    <tr>\n",
       "      <th>2085</th>\n",
       "      <td>33</td>\n",
       "      <td>-77</td>\n",
       "      <td>3</td>\n",
       "      <td>0</td>\n",
       "      <td>1</td>\n",
       "      <td>0</td>\n",
       "      <td>0</td>\n",
       "      <td>0</td>\n",
       "      <td>0</td>\n",
       "      <td>0</td>\n",
       "      <td>...</td>\n",
       "      <td>0</td>\n",
       "      <td>0</td>\n",
       "      <td>1</td>\n",
       "      <td>0</td>\n",
       "      <td>1</td>\n",
       "      <td>0</td>\n",
       "      <td>0</td>\n",
       "      <td>0</td>\n",
       "      <td>1</td>\n",
       "      <td>0</td>\n",
       "    </tr>\n",
       "  </tbody>\n",
       "</table>\n",
       "<p>2 rows × 23 columns</p>\n",
       "</div>"
      ],
      "text/plain": [
       "      age  balance  current-campaign  previous-campaign  job_blue-collar  \\\n",
       "4153   42      440                 5                  0                0   \n",
       "2085   33      -77                 3                  0                1   \n",
       "\n",
       "      job_entrepreneur  job_housemaid  job_management  job_retired  \\\n",
       "4153                 0              0               0            0   \n",
       "2085                 0              0               0            0   \n",
       "\n",
       "      job_self-employed        ...          job_unemployed  job_unknown  \\\n",
       "4153                  0        ...                       0            0   \n",
       "2085                  0        ...                       0            0   \n",
       "\n",
       "      marital_married  marital_single  education_secondary  \\\n",
       "4153                1               0                    1   \n",
       "2085                1               0                    1   \n",
       "\n",
       "      education_tertiary  education_unknown  default_yes  housing-loan_yes  \\\n",
       "4153                   0                  0            0                 1   \n",
       "2085                   0                  0            0                 1   \n",
       "\n",
       "      personal-loan_yes  \n",
       "4153                  0  \n",
       "2085                  0  \n",
       "\n",
       "[2 rows x 23 columns]"
      ]
     },
     "execution_count": 103,
     "metadata": {},
     "output_type": "execute_result"
    }
   ],
   "source": [
    "X_train[0:2]"
   ]
  },
  {
   "cell_type": "code",
   "execution_count": 104,
   "metadata": {},
   "outputs": [
    {
     "data": {
      "text/html": [
       "<div>\n",
       "<style>\n",
       "    .dataframe thead tr:only-child th {\n",
       "        text-align: right;\n",
       "    }\n",
       "\n",
       "    .dataframe thead th {\n",
       "        text-align: left;\n",
       "    }\n",
       "\n",
       "    .dataframe tbody tr th {\n",
       "        vertical-align: top;\n",
       "    }\n",
       "</style>\n",
       "<table border=\"1\" class=\"dataframe\">\n",
       "  <thead>\n",
       "    <tr style=\"text-align: right;\">\n",
       "      <th></th>\n",
       "      <th>const</th>\n",
       "      <th>age</th>\n",
       "      <th>balance</th>\n",
       "      <th>current-campaign</th>\n",
       "      <th>previous-campaign</th>\n",
       "      <th>job_blue-collar</th>\n",
       "      <th>job_entrepreneur</th>\n",
       "      <th>job_housemaid</th>\n",
       "      <th>job_management</th>\n",
       "      <th>job_retired</th>\n",
       "      <th>...</th>\n",
       "      <th>job_unemployed</th>\n",
       "      <th>job_unknown</th>\n",
       "      <th>marital_married</th>\n",
       "      <th>marital_single</th>\n",
       "      <th>education_secondary</th>\n",
       "      <th>education_tertiary</th>\n",
       "      <th>education_unknown</th>\n",
       "      <th>default_yes</th>\n",
       "      <th>housing-loan_yes</th>\n",
       "      <th>personal-loan_yes</th>\n",
       "    </tr>\n",
       "  </thead>\n",
       "  <tbody>\n",
       "    <tr>\n",
       "      <th>4153</th>\n",
       "      <td>1.0</td>\n",
       "      <td>42</td>\n",
       "      <td>440</td>\n",
       "      <td>5</td>\n",
       "      <td>0</td>\n",
       "      <td>0</td>\n",
       "      <td>0</td>\n",
       "      <td>0</td>\n",
       "      <td>0</td>\n",
       "      <td>0</td>\n",
       "      <td>...</td>\n",
       "      <td>0</td>\n",
       "      <td>0</td>\n",
       "      <td>1</td>\n",
       "      <td>0</td>\n",
       "      <td>1</td>\n",
       "      <td>0</td>\n",
       "      <td>0</td>\n",
       "      <td>0</td>\n",
       "      <td>1</td>\n",
       "      <td>0</td>\n",
       "    </tr>\n",
       "    <tr>\n",
       "      <th>2085</th>\n",
       "      <td>1.0</td>\n",
       "      <td>33</td>\n",
       "      <td>-77</td>\n",
       "      <td>3</td>\n",
       "      <td>0</td>\n",
       "      <td>1</td>\n",
       "      <td>0</td>\n",
       "      <td>0</td>\n",
       "      <td>0</td>\n",
       "      <td>0</td>\n",
       "      <td>...</td>\n",
       "      <td>0</td>\n",
       "      <td>0</td>\n",
       "      <td>1</td>\n",
       "      <td>0</td>\n",
       "      <td>1</td>\n",
       "      <td>0</td>\n",
       "      <td>0</td>\n",
       "      <td>0</td>\n",
       "      <td>1</td>\n",
       "      <td>0</td>\n",
       "    </tr>\n",
       "  </tbody>\n",
       "</table>\n",
       "<p>2 rows × 24 columns</p>\n",
       "</div>"
      ],
      "text/plain": [
       "      const  age  balance  current-campaign  previous-campaign  \\\n",
       "4153    1.0   42      440                 5                  0   \n",
       "2085    1.0   33      -77                 3                  0   \n",
       "\n",
       "      job_blue-collar  job_entrepreneur  job_housemaid  job_management  \\\n",
       "4153                0                 0              0               0   \n",
       "2085                1                 0              0               0   \n",
       "\n",
       "      job_retired        ...          job_unemployed  job_unknown  \\\n",
       "4153            0        ...                       0            0   \n",
       "2085            0        ...                       0            0   \n",
       "\n",
       "      marital_married  marital_single  education_secondary  \\\n",
       "4153                1               0                    1   \n",
       "2085                1               0                    1   \n",
       "\n",
       "      education_tertiary  education_unknown  default_yes  housing-loan_yes  \\\n",
       "4153                   0                  0            0                 1   \n",
       "2085                   0                  0            0                 1   \n",
       "\n",
       "      personal-loan_yes  \n",
       "4153                  0  \n",
       "2085                  0  \n",
       "\n",
       "[2 rows x 24 columns]"
      ]
     },
     "execution_count": 104,
     "metadata": {},
     "output_type": "execute_result"
    }
   ],
   "source": [
    "import statsmodels.api as sm\n",
    "\n",
    "sm.add_constant(X_train)[0:2]"
   ]
  },
  {
   "cell_type": "code",
   "execution_count": 105,
   "metadata": {
    "collapsed": true
   },
   "outputs": [],
   "source": [
    "## TODO: Build the logit model. Add a constant term to X\n",
    "logit = sm.Logit( y_train,sm.add_constant(X_train) )"
   ]
  },
  {
   "cell_type": "code",
   "execution_count": 106,
   "metadata": {},
   "outputs": [
    {
     "name": "stdout",
     "output_type": "stream",
     "text": [
      "Optimization terminated successfully.\n",
      "         Current function value: 0.336375\n",
      "         Iterations 7\n"
     ]
    }
   ],
   "source": [
    "lg = logit.fit()"
   ]
  },
  {
   "cell_type": "code",
   "execution_count": 107,
   "metadata": {},
   "outputs": [
    {
     "data": {
      "text/html": [
       "<table class=\"simpletable\">\n",
       "<tr>\n",
       "        <td>Model:</td>              <td>Logit</td>      <td>Pseudo R-squared:</td>    <td>0.066</td>  \n",
       "</tr>\n",
       "<tr>\n",
       "  <td>Dependent Variable:</td>    <td>subscribed</td>          <td>AIC:</td>         <td>2176.5818</td>\n",
       "</tr>\n",
       "<tr>\n",
       "         <td>Date:</td>        <td>2017-09-15 15:47</td>       <td>BIC:</td>         <td>2322.0121</td>\n",
       "</tr>\n",
       "<tr>\n",
       "   <td>No. Observations:</td>        <td>3164</td>        <td>Log-Likelihood:</td>    <td>-1064.3</td> \n",
       "</tr>\n",
       "<tr>\n",
       "       <td>Df Model:</td>             <td>23</td>            <td>LL-Null:</td>        <td>-1139.5</td> \n",
       "</tr>\n",
       "<tr>\n",
       "     <td>Df Residuals:</td>          <td>3140</td>         <td>LLR p-value:</td>    <td>1.0639e-20</td>\n",
       "</tr>\n",
       "<tr>\n",
       "      <td>Converged:</td>           <td>1.0000</td>           <td>Scale:</td>         <td>1.0000</td>  \n",
       "</tr>\n",
       "<tr>\n",
       "    <td>No. Iterations:</td>        <td>7.0000</td>              <td></td>               <td></td>     \n",
       "</tr>\n",
       "</table>\n",
       "<table class=\"simpletable\">\n",
       "<tr>\n",
       "           <td></td>            <th>Coef.</th>  <th>Std.Err.</th>    <th>z</th>     <th>P>|z|</th> <th>[0.025</th>  <th>0.975]</th> \n",
       "</tr>\n",
       "<tr>\n",
       "  <th>const</th>               <td>-1.8193</td>  <td>0.4566</td>  <td>-3.9843</td> <td>0.0001</td> <td>-2.7142</td> <td>-0.9243</td>\n",
       "</tr>\n",
       "<tr>\n",
       "  <th>age</th>                 <td>0.0099</td>   <td>0.0069</td>  <td>1.4446</td>  <td>0.1486</td> <td>-0.0035</td> <td>0.0234</td> \n",
       "</tr>\n",
       "<tr>\n",
       "  <th>balance</th>             <td>-0.0000</td>  <td>0.0000</td>  <td>-0.6657</td> <td>0.5056</td> <td>-0.0001</td> <td>0.0000</td> \n",
       "</tr>\n",
       "<tr>\n",
       "  <th>current-campaign</th>    <td>-0.0984</td>  <td>0.0278</td>  <td>-3.5402</td> <td>0.0004</td> <td>-0.1529</td> <td>-0.0439</td>\n",
       "</tr>\n",
       "<tr>\n",
       "  <th>previous-campaign</th>   <td>0.1319</td>   <td>0.0253</td>  <td>5.2166</td>  <td>0.0000</td> <td>0.0824</td>  <td>0.1815</td> \n",
       "</tr>\n",
       "<tr>\n",
       "  <th>job_blue-collar</th>     <td>-0.4232</td>  <td>0.2363</td>  <td>-1.7909</td> <td>0.0733</td> <td>-0.8862</td> <td>0.0399</td> \n",
       "</tr>\n",
       "<tr>\n",
       "  <th>job_entrepreneur</th>    <td>-1.0109</td>  <td>0.4624</td>  <td>-2.1859</td> <td>0.0288</td> <td>-1.9173</td> <td>-0.1045</td>\n",
       "</tr>\n",
       "<tr>\n",
       "  <th>job_housemaid</th>       <td>0.0912</td>   <td>0.3743</td>  <td>0.2437</td>  <td>0.8075</td> <td>-0.6425</td> <td>0.8249</td> \n",
       "</tr>\n",
       "<tr>\n",
       "  <th>job_management</th>      <td>-0.1525</td>  <td>0.2377</td>  <td>-0.6416</td> <td>0.5211</td> <td>-0.6184</td> <td>0.3134</td> \n",
       "</tr>\n",
       "<tr>\n",
       "  <th>job_retired</th>         <td>0.4007</td>   <td>0.2921</td>  <td>1.3721</td>  <td>0.1700</td> <td>-0.1717</td> <td>0.9732</td> \n",
       "</tr>\n",
       "<tr>\n",
       "  <th>job_self-employed</th>   <td>-0.1784</td>  <td>0.3221</td>  <td>-0.5540</td> <td>0.5796</td> <td>-0.8097</td> <td>0.4528</td> \n",
       "</tr>\n",
       "<tr>\n",
       "  <th>job_services</th>        <td>-0.3478</td>  <td>0.2677</td>  <td>-1.2993</td> <td>0.1938</td> <td>-0.8725</td> <td>0.1768</td> \n",
       "</tr>\n",
       "<tr>\n",
       "  <th>job_student</th>         <td>0.4505</td>   <td>0.3660</td>  <td>1.2307</td>  <td>0.2184</td> <td>-0.2669</td> <td>1.1678</td> \n",
       "</tr>\n",
       "<tr>\n",
       "  <th>job_technician</th>      <td>-0.3543</td>  <td>0.2235</td>  <td>-1.5849</td> <td>0.1130</td> <td>-0.7924</td> <td>0.0838</td> \n",
       "</tr>\n",
       "<tr>\n",
       "  <th>job_unemployed</th>      <td>-1.0886</td>  <td>0.5004</td>  <td>-2.1756</td> <td>0.0296</td> <td>-2.0694</td> <td>-0.1079</td>\n",
       "</tr>\n",
       "<tr>\n",
       "  <th>job_unknown</th>         <td>0.1319</td>   <td>0.5426</td>  <td>0.2432</td>  <td>0.8079</td> <td>-0.9315</td> <td>1.1954</td> \n",
       "</tr>\n",
       "<tr>\n",
       "  <th>marital_married</th>     <td>-0.3178</td>  <td>0.1758</td>  <td>-1.8084</td> <td>0.0705</td> <td>-0.6623</td> <td>0.0266</td> \n",
       "</tr>\n",
       "<tr>\n",
       "  <th>marital_single</th>      <td>-0.0085</td>  <td>0.2054</td>  <td>-0.0415</td> <td>0.9669</td> <td>-0.4112</td> <td>0.3941</td> \n",
       "</tr>\n",
       "<tr>\n",
       "  <th>education_secondary</th> <td>0.2773</td>   <td>0.2020</td>  <td>1.3728</td>  <td>0.1698</td> <td>-0.1186</td> <td>0.6733</td> \n",
       "</tr>\n",
       "<tr>\n",
       "  <th>education_tertiary</th>  <td>0.4790</td>   <td>0.2325</td>  <td>2.0599</td>  <td>0.0394</td> <td>0.0232</td>  <td>0.9347</td> \n",
       "</tr>\n",
       "<tr>\n",
       "  <th>education_unknown</th>   <td>-0.2083</td>  <td>0.3535</td>  <td>-0.5891</td> <td>0.5558</td> <td>-0.9012</td> <td>0.4847</td> \n",
       "</tr>\n",
       "<tr>\n",
       "  <th>default_yes</th>         <td>0.4189</td>   <td>0.4257</td>  <td>0.9841</td>  <td>0.3251</td> <td>-0.4155</td> <td>1.2533</td> \n",
       "</tr>\n",
       "<tr>\n",
       "  <th>housing-loan_yes</th>    <td>-0.5524</td>  <td>0.1229</td>  <td>-4.4946</td> <td>0.0000</td> <td>-0.7933</td> <td>-0.3115</td>\n",
       "</tr>\n",
       "<tr>\n",
       "  <th>personal-loan_yes</th>   <td>-0.5412</td>  <td>0.1881</td>  <td>-2.8773</td> <td>0.0040</td> <td>-0.9099</td> <td>-0.1725</td>\n",
       "</tr>\n",
       "</table>"
      ],
      "text/plain": [
       "<class 'statsmodels.iolib.summary2.Summary'>\n",
       "\"\"\"\n",
       "                          Results: Logit\n",
       "===================================================================\n",
       "Model:                Logit            Pseudo R-squared: 0.066     \n",
       "Dependent Variable:   subscribed       AIC:              2176.5818 \n",
       "Date:                 2017-09-15 15:47 BIC:              2322.0121 \n",
       "No. Observations:     3164             Log-Likelihood:   -1064.3   \n",
       "Df Model:             23               LL-Null:          -1139.5   \n",
       "Df Residuals:         3140             LLR p-value:      1.0639e-20\n",
       "Converged:            1.0000           Scale:            1.0000    \n",
       "No. Iterations:       7.0000                                       \n",
       "-------------------------------------------------------------------\n",
       "                     Coef.  Std.Err.    z    P>|z|   [0.025  0.975]\n",
       "-------------------------------------------------------------------\n",
       "const               -1.8193   0.4566 -3.9843 0.0001 -2.7142 -0.9243\n",
       "age                  0.0099   0.0069  1.4446 0.1486 -0.0035  0.0234\n",
       "balance             -0.0000   0.0000 -0.6657 0.5056 -0.0001  0.0000\n",
       "current-campaign    -0.0984   0.0278 -3.5402 0.0004 -0.1529 -0.0439\n",
       "previous-campaign    0.1319   0.0253  5.2166 0.0000  0.0824  0.1815\n",
       "job_blue-collar     -0.4232   0.2363 -1.7909 0.0733 -0.8862  0.0399\n",
       "job_entrepreneur    -1.0109   0.4624 -2.1859 0.0288 -1.9173 -0.1045\n",
       "job_housemaid        0.0912   0.3743  0.2437 0.8075 -0.6425  0.8249\n",
       "job_management      -0.1525   0.2377 -0.6416 0.5211 -0.6184  0.3134\n",
       "job_retired          0.4007   0.2921  1.3721 0.1700 -0.1717  0.9732\n",
       "job_self-employed   -0.1784   0.3221 -0.5540 0.5796 -0.8097  0.4528\n",
       "job_services        -0.3478   0.2677 -1.2993 0.1938 -0.8725  0.1768\n",
       "job_student          0.4505   0.3660  1.2307 0.2184 -0.2669  1.1678\n",
       "job_technician      -0.3543   0.2235 -1.5849 0.1130 -0.7924  0.0838\n",
       "job_unemployed      -1.0886   0.5004 -2.1756 0.0296 -2.0694 -0.1079\n",
       "job_unknown          0.1319   0.5426  0.2432 0.8079 -0.9315  1.1954\n",
       "marital_married     -0.3178   0.1758 -1.8084 0.0705 -0.6623  0.0266\n",
       "marital_single      -0.0085   0.2054 -0.0415 0.9669 -0.4112  0.3941\n",
       "education_secondary  0.2773   0.2020  1.3728 0.1698 -0.1186  0.6733\n",
       "education_tertiary   0.4790   0.2325  2.0599 0.0394  0.0232  0.9347\n",
       "education_unknown   -0.2083   0.3535 -0.5891 0.5558 -0.9012  0.4847\n",
       "default_yes          0.4189   0.4257  0.9841 0.3251 -0.4155  1.2533\n",
       "housing-loan_yes    -0.5524   0.1229 -4.4946 0.0000 -0.7933 -0.3115\n",
       "personal-loan_yes   -0.5412   0.1881 -2.8773 0.0040 -0.9099 -0.1725\n",
       "===================================================================\n",
       "\n",
       "\"\"\""
      ]
     },
     "execution_count": 107,
     "metadata": {},
     "output_type": "execute_result"
    }
   ],
   "source": [
    "## TODO: Print summary for the model\n",
    "lg.summary2()"
   ]
  },
  {
   "cell_type": "code",
   "execution_count": 108,
   "metadata": {
    "collapsed": true
   },
   "outputs": [],
   "source": [
    "def get_significant_vars( lm ):\n",
    "    var_p_vals_df = pd.DataFrame( lm.pvalues )\n",
    "    var_p_vals_df['vars'] = var_p_vals_df.index\n",
    "    var_p_vals_df.columns = ['pvals', 'vars']\n",
    "    return list( var_p_vals_df[var_p_vals_df.pvals <= 0.05]['vars'] )"
   ]
  },
  {
   "cell_type": "code",
   "execution_count": 109,
   "metadata": {},
   "outputs": [
    {
     "data": {
      "text/plain": [
       "['const',\n",
       " 'current-campaign',\n",
       " 'previous-campaign',\n",
       " 'job_entrepreneur',\n",
       " 'job_unemployed',\n",
       " 'education_tertiary',\n",
       " 'housing-loan_yes',\n",
       " 'personal-loan_yes']"
      ]
     },
     "execution_count": 109,
     "metadata": {},
     "output_type": "execute_result"
    }
   ],
   "source": [
    "## TODO: Get the significant variables\n",
    "significant_vars = get_significant_vars(lg)\n",
    "significant_vars"
   ]
  },
  {
   "cell_type": "code",
   "execution_count": 110,
   "metadata": {},
   "outputs": [],
   "source": [
    "significant_vars.remove('const')"
   ]
  },
  {
   "cell_type": "code",
   "execution_count": 111,
   "metadata": {},
   "outputs": [
    {
     "name": "stdout",
     "output_type": "stream",
     "text": [
      "Optimization terminated successfully.\n",
      "         Current function value: 0.341808\n",
      "         Iterations 7\n"
     ]
    }
   ],
   "source": [
    "final_logit = sm.Logit( y_train, sm.add_constant( X_train[significant_vars] ) ).fit()"
   ]
  },
  {
   "cell_type": "code",
   "execution_count": 112,
   "metadata": {},
   "outputs": [
    {
     "data": {
      "text/html": [
       "<table class=\"simpletable\">\n",
       "<tr>\n",
       "        <td>Model:</td>              <td>Logit</td>      <td>Pseudo R-squared:</td>    <td>0.051</td>  \n",
       "</tr>\n",
       "<tr>\n",
       "  <td>Dependent Variable:</td>    <td>subscribed</td>          <td>AIC:</td>         <td>2178.9604</td>\n",
       "</tr>\n",
       "<tr>\n",
       "         <td>Date:</td>        <td>2017-09-15 15:47</td>       <td>BIC:</td>         <td>2227.4371</td>\n",
       "</tr>\n",
       "<tr>\n",
       "   <td>No. Observations:</td>        <td>3164</td>        <td>Log-Likelihood:</td>    <td>-1081.5</td> \n",
       "</tr>\n",
       "<tr>\n",
       "       <td>Df Model:</td>              <td>7</td>            <td>LL-Null:</td>        <td>-1139.5</td> \n",
       "</tr>\n",
       "<tr>\n",
       "     <td>Df Residuals:</td>          <td>3156</td>         <td>LLR p-value:</td>    <td>5.1133e-22</td>\n",
       "</tr>\n",
       "<tr>\n",
       "      <td>Converged:</td>           <td>1.0000</td>           <td>Scale:</td>         <td>1.0000</td>  \n",
       "</tr>\n",
       "<tr>\n",
       "    <td>No. Iterations:</td>        <td>7.0000</td>              <td></td>               <td></td>     \n",
       "</tr>\n",
       "</table>\n",
       "<table class=\"simpletable\">\n",
       "<tr>\n",
       "           <td></td>           <th>Coef.</th>  <th>Std.Err.</th>     <th>z</th>     <th>P>|z|</th> <th>[0.025</th>  <th>0.975]</th> \n",
       "</tr>\n",
       "<tr>\n",
       "  <th>const</th>              <td>-1.4882</td>  <td>0.1150</td>  <td>-12.9433</td> <td>0.0000</td> <td>-1.7135</td> <td>-1.2628</td>\n",
       "</tr>\n",
       "<tr>\n",
       "  <th>current-campaign</th>   <td>-0.1041</td>  <td>0.0279</td>   <td>-3.7335</td> <td>0.0002</td> <td>-0.1588</td> <td>-0.0495</td>\n",
       "</tr>\n",
       "<tr>\n",
       "  <th>previous-campaign</th>  <td>0.1350</td>   <td>0.0250</td>   <td>5.4091</td>  <td>0.0000</td> <td>0.0861</td>  <td>0.1839</td> \n",
       "</tr>\n",
       "<tr>\n",
       "  <th>job_entrepreneur</th>   <td>-0.8995</td>  <td>0.4275</td>   <td>-2.1043</td> <td>0.0354</td> <td>-1.7373</td> <td>-0.0617</td>\n",
       "</tr>\n",
       "<tr>\n",
       "  <th>job_unemployed</th>     <td>-0.9425</td>  <td>0.4724</td>   <td>-1.9951</td> <td>0.0460</td> <td>-1.8684</td> <td>-0.0166</td>\n",
       "</tr>\n",
       "<tr>\n",
       "  <th>education_tertiary</th> <td>0.2864</td>   <td>0.1188</td>   <td>2.4105</td>  <td>0.0159</td> <td>0.0535</td>  <td>0.5194</td> \n",
       "</tr>\n",
       "<tr>\n",
       "  <th>housing-loan_yes</th>   <td>-0.7099</td>  <td>0.1153</td>   <td>-6.1553</td> <td>0.0000</td> <td>-0.9359</td> <td>-0.4839</td>\n",
       "</tr>\n",
       "<tr>\n",
       "  <th>personal-loan_yes</th>  <td>-0.5435</td>  <td>0.1854</td>   <td>-2.9323</td> <td>0.0034</td> <td>-0.9068</td> <td>-0.1802</td>\n",
       "</tr>\n",
       "</table>"
      ],
      "text/plain": [
       "<class 'statsmodels.iolib.summary2.Summary'>\n",
       "\"\"\"\n",
       "                          Results: Logit\n",
       "===================================================================\n",
       "Model:                Logit            Pseudo R-squared: 0.051     \n",
       "Dependent Variable:   subscribed       AIC:              2178.9604 \n",
       "Date:                 2017-09-15 15:47 BIC:              2227.4371 \n",
       "No. Observations:     3164             Log-Likelihood:   -1081.5   \n",
       "Df Model:             7                LL-Null:          -1139.5   \n",
       "Df Residuals:         3156             LLR p-value:      5.1133e-22\n",
       "Converged:            1.0000           Scale:            1.0000    \n",
       "No. Iterations:       7.0000                                       \n",
       "-------------------------------------------------------------------\n",
       "                    Coef.  Std.Err.    z     P>|z|   [0.025  0.975]\n",
       "-------------------------------------------------------------------\n",
       "const              -1.4882   0.1150 -12.9433 0.0000 -1.7135 -1.2628\n",
       "current-campaign   -0.1041   0.0279  -3.7335 0.0002 -0.1588 -0.0495\n",
       "previous-campaign   0.1350   0.0250   5.4091 0.0000  0.0861  0.1839\n",
       "job_entrepreneur   -0.8995   0.4275  -2.1043 0.0354 -1.7373 -0.0617\n",
       "job_unemployed     -0.9425   0.4724  -1.9951 0.0460 -1.8684 -0.0166\n",
       "education_tertiary  0.2864   0.1188   2.4105 0.0159  0.0535  0.5194\n",
       "housing-loan_yes   -0.7099   0.1153  -6.1553 0.0000 -0.9359 -0.4839\n",
       "personal-loan_yes  -0.5435   0.1854  -2.9323 0.0034 -0.9068 -0.1802\n",
       "===================================================================\n",
       "\n",
       "\"\"\""
      ]
     },
     "execution_count": 112,
     "metadata": {},
     "output_type": "execute_result"
    }
   ],
   "source": [
    "final_logit.summary2()"
   ]
  },
  {
   "cell_type": "code",
   "execution_count": 113,
   "metadata": {
    "collapsed": true
   },
   "outputs": [],
   "source": [
    "from sklearn import metrics"
   ]
  },
  {
   "cell_type": "code",
   "execution_count": 114,
   "metadata": {
    "collapsed": true
   },
   "outputs": [],
   "source": [
    "def get_predictions( y_test, model ):\n",
    "    y_pred_df = pd.DataFrame( { 'actual': y_test, \n",
    "                               \"predicted_prob\": model.predict( sm.add_constant( X_test[significant_vars] ) ) } )    \n",
    "    return y_pred_df"
   ]
  },
  {
   "cell_type": "code",
   "execution_count": 115,
   "metadata": {},
   "outputs": [],
   "source": [
    "## TODO: Get the predicted probabilities \n",
    "y_pred_df = get_predictions(y_test, final_logit)"
   ]
  },
  {
   "cell_type": "code",
   "execution_count": 116,
   "metadata": {},
   "outputs": [],
   "source": [
    "y_pred_sorted_df = y_pred_df.sort_values( 'predicted_prob', ascending = False )"
   ]
  },
  {
   "cell_type": "code",
   "execution_count": 117,
   "metadata": {
    "collapsed": true
   },
   "outputs": [],
   "source": [
    "def get_dociles( df ):\n",
    "    df['docile'] = 1\n",
    "    idx = 0\n",
    "    for each_d in range( 0, 10 ):\n",
    "\n",
    "        df.iloc[idx:idx+num_per_docile, df.columns.get_loc('docile')] = each_d \n",
    "\n",
    "        idx += num_per_docile\n",
    "\n",
    "    df['docile'] = df['docile'] + 1    \n",
    "    return df"
   ]
  },
  {
   "cell_type": "code",
   "execution_count": 118,
   "metadata": {},
   "outputs": [],
   "source": [
    "num_per_docile = 136\n",
    "dociles_predict_df = get_dociles(y_pred_sorted_df)"
   ]
  },
  {
   "cell_type": "code",
   "execution_count": 119,
   "metadata": {},
   "outputs": [],
   "source": [
    "\n",
    "gain_lift_df = pd.DataFrame( dociles_predict_df.groupby( 'docile')['actual'].sum() ).reset_index()\n",
    "\n",
    "gain_lift_df.columns = ['docile', 'gain']\n",
    "\n",
    "gain_lift_df['gain_percentage'] = 100 * gain_lift_df.gain.cumsum()/gain_lift_df.gain.sum()"
   ]
  },
  {
   "cell_type": "code",
   "execution_count": 120,
   "metadata": {},
   "outputs": [
    {
     "data": {
      "text/html": [
       "<div>\n",
       "<style>\n",
       "    .dataframe thead tr:only-child th {\n",
       "        text-align: right;\n",
       "    }\n",
       "\n",
       "    .dataframe thead th {\n",
       "        text-align: left;\n",
       "    }\n",
       "\n",
       "    .dataframe tbody tr th {\n",
       "        vertical-align: top;\n",
       "    }\n",
       "</style>\n",
       "<table border=\"1\" class=\"dataframe\">\n",
       "  <thead>\n",
       "    <tr style=\"text-align: right;\">\n",
       "      <th></th>\n",
       "      <th>docile</th>\n",
       "      <th>gain</th>\n",
       "      <th>gain_percentage</th>\n",
       "    </tr>\n",
       "  </thead>\n",
       "  <tbody>\n",
       "    <tr>\n",
       "      <th>0</th>\n",
       "      <td>1</td>\n",
       "      <td>28</td>\n",
       "      <td>18.421053</td>\n",
       "    </tr>\n",
       "    <tr>\n",
       "      <th>1</th>\n",
       "      <td>2</td>\n",
       "      <td>22</td>\n",
       "      <td>32.894737</td>\n",
       "    </tr>\n",
       "    <tr>\n",
       "      <th>2</th>\n",
       "      <td>3</td>\n",
       "      <td>26</td>\n",
       "      <td>50.000000</td>\n",
       "    </tr>\n",
       "    <tr>\n",
       "      <th>3</th>\n",
       "      <td>4</td>\n",
       "      <td>12</td>\n",
       "      <td>57.894737</td>\n",
       "    </tr>\n",
       "    <tr>\n",
       "      <th>4</th>\n",
       "      <td>5</td>\n",
       "      <td>15</td>\n",
       "      <td>67.763158</td>\n",
       "    </tr>\n",
       "    <tr>\n",
       "      <th>5</th>\n",
       "      <td>6</td>\n",
       "      <td>6</td>\n",
       "      <td>71.710526</td>\n",
       "    </tr>\n",
       "    <tr>\n",
       "      <th>6</th>\n",
       "      <td>7</td>\n",
       "      <td>14</td>\n",
       "      <td>80.921053</td>\n",
       "    </tr>\n",
       "    <tr>\n",
       "      <th>7</th>\n",
       "      <td>8</td>\n",
       "      <td>11</td>\n",
       "      <td>88.157895</td>\n",
       "    </tr>\n",
       "    <tr>\n",
       "      <th>8</th>\n",
       "      <td>9</td>\n",
       "      <td>11</td>\n",
       "      <td>95.394737</td>\n",
       "    </tr>\n",
       "    <tr>\n",
       "      <th>9</th>\n",
       "      <td>10</td>\n",
       "      <td>7</td>\n",
       "      <td>100.000000</td>\n",
       "    </tr>\n",
       "  </tbody>\n",
       "</table>\n",
       "</div>"
      ],
      "text/plain": [
       "   docile  gain  gain_percentage\n",
       "0       1    28        18.421053\n",
       "1       2    22        32.894737\n",
       "2       3    26        50.000000\n",
       "3       4    12        57.894737\n",
       "4       5    15        67.763158\n",
       "5       6     6        71.710526\n",
       "6       7    14        80.921053\n",
       "7       8    11        88.157895\n",
       "8       9    11        95.394737\n",
       "9      10     7       100.000000"
      ]
     },
     "execution_count": 120,
     "metadata": {},
     "output_type": "execute_result"
    }
   ],
   "source": [
    "gain_lift_df"
   ]
  },
  {
   "cell_type": "code",
   "execution_count": 127,
   "metadata": {},
   "outputs": [
    {
     "data": {
      "image/png": "[encoded data removed]",
      "text/plain": [
       "<matplotlib.figure.Figure at 0xcbd8e10>"
      ]
     },
     "metadata": {},
     "output_type": "display_data"
    }
   ],
   "source": [
    "import matplotlib.pyplot as plt\n",
    "import seaborn as sn\n",
    "%matplotlib inline\n",
    "\n",
    "plt.figure(figsize =(15,6))\n",
    "plt.plot(gain_lift_df['docile'], gain_lift_df['gain_percentage'],'-')\n",
    "plt.title(\"gain chart\")\n",
    "plt.show()"
   ]
  },
  {
   "cell_type": "code",
   "execution_count": null,
   "metadata": {
    "collapsed": true
   },
   "outputs": [],
   "source": []
  }
 ],
 "metadata": {
  "kernelspec": {
   "display_name": "Python 3",
   "language": "python",
   "name": "python3"
  },
  "language_info": {
   "codemirror_mode": {
    "name": "ipython",
    "version": 3
   },
   "file_extension": ".py",
   "mimetype": "text/x-python",
   "name": "python",
   "nbconvert_exporter": "python",
   "pygments_lexer": "ipython3",
   "version": "3.6.1"
  }
 },
 "nbformat": 4,
 "nbformat_minor": 2
}
