{
 "cells": [
  {
   "cell_type": "markdown",
   "metadata": {},
   "source": [
    " Name: Sushma S"
   ]
  },
  {
   "cell_type": "markdown",
   "metadata": {},
   "source": [
    "#  Daily Returns Analysis"
   ]
  },
  {
   "cell_type": "markdown",
   "metadata": {},
   "source": [
    "## a) Calculate the daily gain for the stocks."
   ]
  },
  {
   "cell_type": "code",
   "execution_count": 7,
   "metadata": {
    "collapsed": true
   },
   "outputs": [],
   "source": [
    "import pandas as pd\n",
    "import numpy as np\n",
    "import seaborn as sn\n",
    "from scipy import stats\n",
    "import matplotlib.pyplot as plt\n",
    "%matplotlib inline"
   ]
  },
  {
   "cell_type": "code",
   "execution_count": 8,
   "metadata": {
    "collapsed": true
   },
   "outputs": [],
   "source": [
    "#reading the DLF Ltd daily prices from csv and set Date column as index\n",
    "dlf_df = pd.read_csv( '../data/DLFLtd.csv' )\n",
    "dlf_df = dlf_df.set_index(pd.DatetimeIndex(dlf_df['Date']) )\n",
    "\n",
    "#reading the Dabur India Ltd daily prices and set Date column as index\n",
    "dabur_df = pd.read_csv( '../data/DaburIndiaLtd.csv' )\n",
    "dabur_df = dabur_df.set_index(pd.DatetimeIndex(dabur_df['Date']) )\n",
    "\n",
    "#reading the 3M India Ltd daily prices and set Date column as index\n",
    "threeM_df = pd.read_csv( '../data/3MIndiaLtd.csv' )\n",
    "threeM_df = threeM_df.set_index(pd.DatetimeIndex(threeM_df['Date']) )\n",
    "\n",
    "#reading the Titan Company Ltd daily prices and set Date column as index\n",
    "titan_df = pd.read_csv( '../data/TitanCompanyLtd.csv' )\n",
    "titan_df = titan_df.set_index(pd.DatetimeIndex(titan_df['Date']) )"
   ]
  },
  {
   "cell_type": "code",
   "execution_count": 9,
   "metadata": {
    "collapsed": true
   },
   "outputs": [],
   "source": [
    "#As yesterday's close price is same as today's open price, to calculate gain -> (Today's Open Price - Today's Close price)/Today's Open price\n",
    "dlf_df[\"gain\"] = dlf_df.apply( lambda rec: round( ( rec['Yesterdays Close Price'] - rec['Close Price'] ) / rec['Yesterdays Close Price'], 2 ), axis = 1 )\n",
    "\n",
    "dabur_df[\"gain\"] = dabur_df.apply( lambda rec: round( (rec['Yesterdays Close Price'] - rec['Close Price']) / rec['Yesterdays Close Price'], 2 ), axis = 1 )\n",
    "\n",
    "threeM_df[\"gain\"] = threeM_df.apply( lambda rec: round( ( rec['Yesterdays Close Price'] - rec['Close Price']) / rec['Yesterdays Close Price'], 2 ), axis = 1 )\n",
    "\n",
    "titan_df[\"gain\"] = titan_df.apply( lambda rec: round( ( rec['Yesterdays Close Price'] - rec['Close Price']) / rec['Yesterdays Close Price'], 2 ), axis = 1 )"
   ]
  },
  {
   "cell_type": "code",
   "execution_count": 10,
   "metadata": {},
   "outputs": [
    {
     "data": {
      "text/html": [
       "<div>\n",
       "<style>\n",
       "    .dataframe thead tr:only-child th {\n",
       "        text-align: right;\n",
       "    }\n",
       "\n",
       "    .dataframe thead th {\n",
       "        text-align: left;\n",
       "    }\n",
       "\n",
       "    .dataframe tbody tr th {\n",
       "        vertical-align: top;\n",
       "    }\n",
       "</style>\n",
       "<table border=\"1\" class=\"dataframe\">\n",
       "  <thead>\n",
       "    <tr style=\"text-align: right;\">\n",
       "      <th></th>\n",
       "      <th>Date</th>\n",
       "      <th>Open Price</th>\n",
       "      <th>High Price</th>\n",
       "      <th>Low Price</th>\n",
       "      <th>Close Price</th>\n",
       "      <th>WAP</th>\n",
       "      <th>No.of Shares</th>\n",
       "      <th>No. of Trades</th>\n",
       "      <th>Total Turnover (Rs.)</th>\n",
       "      <th>Deliverable Quantity</th>\n",
       "      <th>% Deli. Qty to Traded Qty</th>\n",
       "      <th>Spread High-Low</th>\n",
       "      <th>Spread Close-Open</th>\n",
       "      <th>Yesterdays Close Price</th>\n",
       "      <th>gain</th>\n",
       "    </tr>\n",
       "    <tr>\n",
       "      <th>Date</th>\n",
       "      <th></th>\n",
       "      <th></th>\n",
       "      <th></th>\n",
       "      <th></th>\n",
       "      <th></th>\n",
       "      <th></th>\n",
       "      <th></th>\n",
       "      <th></th>\n",
       "      <th></th>\n",
       "      <th></th>\n",
       "      <th></th>\n",
       "      <th></th>\n",
       "      <th></th>\n",
       "      <th></th>\n",
       "      <th></th>\n",
       "    </tr>\n",
       "  </thead>\n",
       "  <tbody>\n",
       "    <tr>\n",
       "      <th>2012-04-02</th>\n",
       "      <td>2-Apr-12</td>\n",
       "      <td>201.00</td>\n",
       "      <td>209.20</td>\n",
       "      <td>200.25</td>\n",
       "      <td>207.3</td>\n",
       "      <td>206.709448</td>\n",
       "      <td>1028861</td>\n",
       "      <td>14144</td>\n",
       "      <td>212675289</td>\n",
       "      <td>170280.0</td>\n",
       "      <td>16.55</td>\n",
       "      <td>8.95</td>\n",
       "      <td>6.30</td>\n",
       "      <td>201.0</td>\n",
       "      <td>-0.03</td>\n",
       "    </tr>\n",
       "    <tr>\n",
       "      <th>2012-04-03</th>\n",
       "      <td>3-Apr-12</td>\n",
       "      <td>209.50</td>\n",
       "      <td>210.95</td>\n",
       "      <td>206.15</td>\n",
       "      <td>207.0</td>\n",
       "      <td>208.479581</td>\n",
       "      <td>630615</td>\n",
       "      <td>8132</td>\n",
       "      <td>131470351</td>\n",
       "      <td>97668.0</td>\n",
       "      <td>15.49</td>\n",
       "      <td>4.80</td>\n",
       "      <td>-2.50</td>\n",
       "      <td>207.3</td>\n",
       "      <td>0.00</td>\n",
       "    </tr>\n",
       "    <tr>\n",
       "      <th>2012-04-04</th>\n",
       "      <td>4-Apr-12</td>\n",
       "      <td>207.00</td>\n",
       "      <td>207.00</td>\n",
       "      <td>201.20</td>\n",
       "      <td>204.2</td>\n",
       "      <td>203.683239</td>\n",
       "      <td>632284</td>\n",
       "      <td>7807</td>\n",
       "      <td>128785653</td>\n",
       "      <td>50993.0</td>\n",
       "      <td>8.06</td>\n",
       "      <td>5.80</td>\n",
       "      <td>-2.80</td>\n",
       "      <td>207.0</td>\n",
       "      <td>0.01</td>\n",
       "    </tr>\n",
       "    <tr>\n",
       "      <th>2012-04-09</th>\n",
       "      <td>9-Apr-12</td>\n",
       "      <td>202.00</td>\n",
       "      <td>207.70</td>\n",
       "      <td>201.15</td>\n",
       "      <td>205.5</td>\n",
       "      <td>205.538726</td>\n",
       "      <td>765619</td>\n",
       "      <td>10538</td>\n",
       "      <td>157364354</td>\n",
       "      <td>68847.0</td>\n",
       "      <td>8.99</td>\n",
       "      <td>6.55</td>\n",
       "      <td>3.50</td>\n",
       "      <td>204.2</td>\n",
       "      <td>-0.01</td>\n",
       "    </tr>\n",
       "    <tr>\n",
       "      <th>2012-04-10</th>\n",
       "      <td>10-Apr-12</td>\n",
       "      <td>206.75</td>\n",
       "      <td>207.20</td>\n",
       "      <td>202.00</td>\n",
       "      <td>204.2</td>\n",
       "      <td>204.758825</td>\n",
       "      <td>505360</td>\n",
       "      <td>7423</td>\n",
       "      <td>103476920</td>\n",
       "      <td>42197.0</td>\n",
       "      <td>8.35</td>\n",
       "      <td>5.20</td>\n",
       "      <td>-2.55</td>\n",
       "      <td>205.5</td>\n",
       "      <td>0.01</td>\n",
       "    </tr>\n",
       "  </tbody>\n",
       "</table>\n",
       "</div>"
      ],
      "text/plain": [
       "                 Date  Open Price  High Price  Low Price  Close Price  \\\n",
       "Date                                                                    \n",
       "2012-04-02   2-Apr-12      201.00      209.20     200.25        207.3   \n",
       "2012-04-03   3-Apr-12      209.50      210.95     206.15        207.0   \n",
       "2012-04-04   4-Apr-12      207.00      207.00     201.20        204.2   \n",
       "2012-04-09   9-Apr-12      202.00      207.70     201.15        205.5   \n",
       "2012-04-10  10-Apr-12      206.75      207.20     202.00        204.2   \n",
       "\n",
       "                   WAP  No.of Shares  No. of Trades  Total Turnover (Rs.)  \\\n",
       "Date                                                                        \n",
       "2012-04-02  206.709448       1028861          14144             212675289   \n",
       "2012-04-03  208.479581        630615           8132             131470351   \n",
       "2012-04-04  203.683239        632284           7807             128785653   \n",
       "2012-04-09  205.538726        765619          10538             157364354   \n",
       "2012-04-10  204.758825        505360           7423             103476920   \n",
       "\n",
       "            Deliverable Quantity  % Deli. Qty to Traded Qty  Spread High-Low  \\\n",
       "Date                                                                           \n",
       "2012-04-02              170280.0                      16.55             8.95   \n",
       "2012-04-03               97668.0                      15.49             4.80   \n",
       "2012-04-04               50993.0                       8.06             5.80   \n",
       "2012-04-09               68847.0                       8.99             6.55   \n",
       "2012-04-10               42197.0                       8.35             5.20   \n",
       "\n",
       "            Spread Close-Open  Yesterdays Close Price  gain  \n",
       "Date                                                         \n",
       "2012-04-02               6.30                   201.0 -0.03  \n",
       "2012-04-03              -2.50                   207.3  0.00  \n",
       "2012-04-04              -2.80                   207.0  0.01  \n",
       "2012-04-09               3.50                   204.2 -0.01  \n",
       "2012-04-10              -2.55                   205.5  0.01  "
      ]
     },
     "execution_count": 10,
     "metadata": {},
     "output_type": "execute_result"
    }
   ],
   "source": [
    "dlf_df.head(5)"
   ]
  },
  {
   "cell_type": "markdown",
   "metadata": {},
   "source": [
    "#####  Conclusion - A new column 'gain' is added to all the stocks data frame"
   ]
  },
  {
   "cell_type": "markdown",
   "metadata": {},
   "source": [
    "## b) Calculate the mean and variance of the percentage daily returns?"
   ]
  },
  {
   "cell_type": "code",
   "execution_count": 11,
   "metadata": {},
   "outputs": [
    {
     "name": "stdout",
     "output_type": "stream",
     "text": [
      "For DLF percentage daily return, \n",
      " mean: -0.0002179176755447943  \n",
      " variance: 0.00100358736851987 \n",
      "\n"
     ]
    }
   ],
   "source": [
    "# mean and variance of dlf\n",
    "mean = dlf_df.gain.mean()\n",
    "var = dlf_df.gain.var()\n",
    "print(\"For DLF percentage daily return, \\n mean:\", mean, \" \\n variance:\", var, \"\\n\" )"
   ]
  },
  {
   "cell_type": "code",
   "execution_count": 12,
   "metadata": {},
   "outputs": [
    {
     "name": "stdout",
     "output_type": "stream",
     "text": [
      "For Dabur percentage daily return, \n",
      " mean: -0.0010096930533117937  \n",
      " variance: 0.00023333701187013822 \n",
      "\n"
     ]
    }
   ],
   "source": [
    "# mean and variance of dabur\n",
    "mean = dabur_df.gain.mean()\n",
    "var = dabur_df.gain.var()\n",
    "print(\"For Dabur percentage daily return, \\n mean:\", mean, \" \\n variance:\", var, \"\\n\" )"
   ]
  },
  {
   "cell_type": "code",
   "execution_count": 13,
   "metadata": {},
   "outputs": [
    {
     "name": "stdout",
     "output_type": "stream",
     "text": [
      "For 3M percentage daily return, \n",
      " mean: -0.0010615883306320907  \n",
      " variance: 0.00036894510891068 \n",
      "\n"
     ]
    }
   ],
   "source": [
    "# mean and variance of 3M\n",
    "mean = threeM_df.gain.mean()\n",
    "var = threeM_df.gain.var()\n",
    "print(\"For 3M percentage daily return, \\n mean:\", mean, \" \\n variance:\", var, \"\\n\" )"
   ]
  },
  {
   "cell_type": "code",
   "execution_count": 14,
   "metadata": {},
   "outputs": [
    {
     "name": "stdout",
     "output_type": "stream",
     "text": [
      "For Titan percentage daily return, \n",
      " mean: -0.0008158319870759285  \n",
      " variance: 0.00042253517355946344 \n",
      "\n"
     ]
    }
   ],
   "source": [
    "# mean and variance of Titan\n",
    "mean = titan_df.gain.mean()\n",
    "var = titan_df.gain.var()\n",
    "print(\"For Titan percentage daily return, \\n mean:\", mean, \" \\n variance:\", var, \"\\n\" )"
   ]
  },
  {
   "cell_type": "markdown",
   "metadata": {},
   "source": [
    "## c) Which stock has highest volatility? Draw the distribution of daily returns for all stock in one plot."
   ]
  },
  {
   "cell_type": "code",
   "execution_count": 15,
   "metadata": {},
   "outputs": [
    {
     "data": {
      "text/plain": [
       "<matplotlib.axes._subplots.AxesSubplot at 0xb7cfb00>"
      ]
     },
     "execution_count": 15,
     "metadata": {},
     "output_type": "execute_result"
    },
    {
     "data": {
      "image/png": "[encoded data removed]",
      "text/plain": [
       "<matplotlib.figure.Figure at 0xb7cf390>"
      ]
     },
     "metadata": {},
     "output_type": "display_data"
    }
   ],
   "source": [
    "sn.set(rc={\"figure.figsize\": (10, 6)});\n",
    "sn.distplot( dlf_df.gain, hist = False, color = 'g' )\n",
    "sn.distplot( dabur_df.gain, hist = False, color = 'b' )\n",
    "sn.distplot( threeM_df.gain, hist = False, color = 'r' )\n",
    "sn.distplot( titan_df.gain, hist = False, color = 'y' )"
   ]
  },
  {
   "cell_type": "markdown",
   "metadata": {},
   "source": [
    "#### Conclusion : DLF Ltd stocks have highest variance compared to other stocks, which implies it has highest volatility."
   ]
  },
  {
   "cell_type": "markdown",
   "metadata": {},
   "source": [
    "## d) Are the percentage daily returns of these stocks correlated? Compute the correlations between the daily returns of the above 4 stocks and draw a heatmap."
   ]
  },
  {
   "cell_type": "code",
   "execution_count": 16,
   "metadata": {
    "collapsed": true
   },
   "outputs": [],
   "source": [
    "#merge dlf and dabur dataframes on 'Date' to form a new dataframe containing Date, gain_dlf and gain_dabur\n",
    "dlf_dabur_df = dlf_df[['Date', 'gain']].merge(\n",
    "  dabur_df[['Date', 'gain']],\n",
    "  on = ['Date'],\n",
    "  suffixes=('_dlf', '_dabur'), how = 'inner' )"
   ]
  },
  {
   "cell_type": "code",
   "execution_count": 17,
   "metadata": {
    "collapsed": true
   },
   "outputs": [],
   "source": [
    "#merge threeM with dlf_dabur dataframe on 'Date' to form a new dataframe containing Date, gain_dlf, gain_dabur and gain from threeM\n",
    "dlf_dabur_threeM_df = dlf_dabur_df.merge(\n",
    "  threeM_df[['Date', 'gain']],\n",
    "  on = ['Date'], how = 'inner' )"
   ]
  },
  {
   "cell_type": "code",
   "execution_count": 18,
   "metadata": {
    "collapsed": true
   },
   "outputs": [],
   "source": [
    "#merge titan with dlf_dabur_threeM dataframe on 'Date' to form all_df containing Date, gain_dlf, gain_dabur, gain_threeM and gain_titan\n",
    "all_df = dlf_dabur_threeM_df.merge(\n",
    "  titan_df[['Date', 'gain']], suffixes=('_threeM', '_titan'),\n",
    "  on = ['Date'], how = 'inner' )"
   ]
  },
  {
   "cell_type": "code",
   "execution_count": 19,
   "metadata": {},
   "outputs": [
    {
     "data": {
      "text/html": [
       "<div>\n",
       "<style>\n",
       "    .dataframe thead tr:only-child th {\n",
       "        text-align: right;\n",
       "    }\n",
       "\n",
       "    .dataframe thead th {\n",
       "        text-align: left;\n",
       "    }\n",
       "\n",
       "    .dataframe tbody tr th {\n",
       "        vertical-align: top;\n",
       "    }\n",
       "</style>\n",
       "<table border=\"1\" class=\"dataframe\">\n",
       "  <thead>\n",
       "    <tr style=\"text-align: right;\">\n",
       "      <th></th>\n",
       "      <th>Date</th>\n",
       "      <th>gain_dlf</th>\n",
       "      <th>gain_dabur</th>\n",
       "      <th>gain_threeM</th>\n",
       "      <th>gain_titan</th>\n",
       "    </tr>\n",
       "  </thead>\n",
       "  <tbody>\n",
       "    <tr>\n",
       "      <th>0</th>\n",
       "      <td>2-Apr-12</td>\n",
       "      <td>-0.03</td>\n",
       "      <td>0.01</td>\n",
       "      <td>-0.01</td>\n",
       "      <td>-0.05</td>\n",
       "    </tr>\n",
       "    <tr>\n",
       "      <th>1</th>\n",
       "      <td>3-Apr-12</td>\n",
       "      <td>0.00</td>\n",
       "      <td>0.00</td>\n",
       "      <td>-0.07</td>\n",
       "      <td>-0.02</td>\n",
       "    </tr>\n",
       "    <tr>\n",
       "      <th>2</th>\n",
       "      <td>4-Apr-12</td>\n",
       "      <td>0.01</td>\n",
       "      <td>0.00</td>\n",
       "      <td>-0.00</td>\n",
       "      <td>-0.01</td>\n",
       "    </tr>\n",
       "    <tr>\n",
       "      <th>3</th>\n",
       "      <td>9-Apr-12</td>\n",
       "      <td>-0.01</td>\n",
       "      <td>0.01</td>\n",
       "      <td>-0.04</td>\n",
       "      <td>0.02</td>\n",
       "    </tr>\n",
       "    <tr>\n",
       "      <th>4</th>\n",
       "      <td>10-Apr-12</td>\n",
       "      <td>0.01</td>\n",
       "      <td>-0.01</td>\n",
       "      <td>-0.01</td>\n",
       "      <td>-0.00</td>\n",
       "    </tr>\n",
       "  </tbody>\n",
       "</table>\n",
       "</div>"
      ],
      "text/plain": [
       "        Date  gain_dlf  gain_dabur  gain_threeM  gain_titan\n",
       "0   2-Apr-12     -0.03        0.01        -0.01       -0.05\n",
       "1   3-Apr-12      0.00        0.00        -0.07       -0.02\n",
       "2   4-Apr-12      0.01        0.00        -0.00       -0.01\n",
       "3   9-Apr-12     -0.01        0.01        -0.04        0.02\n",
       "4  10-Apr-12      0.01       -0.01        -0.01       -0.00"
      ]
     },
     "execution_count": 19,
     "metadata": {},
     "output_type": "execute_result"
    }
   ],
   "source": [
    "#view the first five rows of all_df\n",
    "all_df[0:5]"
   ]
  },
  {
   "cell_type": "code",
   "execution_count": 20,
   "metadata": {},
   "outputs": [
    {
     "data": {
      "text/html": [
       "<div>\n",
       "<style>\n",
       "    .dataframe thead tr:only-child th {\n",
       "        text-align: right;\n",
       "    }\n",
       "\n",
       "    .dataframe thead th {\n",
       "        text-align: left;\n",
       "    }\n",
       "\n",
       "    .dataframe tbody tr th {\n",
       "        vertical-align: top;\n",
       "    }\n",
       "</style>\n",
       "<table border=\"1\" class=\"dataframe\">\n",
       "  <thead>\n",
       "    <tr style=\"text-align: right;\">\n",
       "      <th></th>\n",
       "      <th>gain_dlf</th>\n",
       "      <th>gain_dabur</th>\n",
       "      <th>gain_threeM</th>\n",
       "      <th>gain_titan</th>\n",
       "    </tr>\n",
       "  </thead>\n",
       "  <tbody>\n",
       "    <tr>\n",
       "      <th>gain_dlf</th>\n",
       "      <td>1.000000</td>\n",
       "      <td>0.170479</td>\n",
       "      <td>0.231348</td>\n",
       "      <td>0.229502</td>\n",
       "    </tr>\n",
       "    <tr>\n",
       "      <th>gain_dabur</th>\n",
       "      <td>0.170479</td>\n",
       "      <td>1.000000</td>\n",
       "      <td>0.218296</td>\n",
       "      <td>0.236206</td>\n",
       "    </tr>\n",
       "    <tr>\n",
       "      <th>gain_threeM</th>\n",
       "      <td>0.231348</td>\n",
       "      <td>0.218296</td>\n",
       "      <td>1.000000</td>\n",
       "      <td>0.165007</td>\n",
       "    </tr>\n",
       "    <tr>\n",
       "      <th>gain_titan</th>\n",
       "      <td>0.229502</td>\n",
       "      <td>0.236206</td>\n",
       "      <td>0.165007</td>\n",
       "      <td>1.000000</td>\n",
       "    </tr>\n",
       "  </tbody>\n",
       "</table>\n",
       "</div>"
      ],
      "text/plain": [
       "             gain_dlf  gain_dabur  gain_threeM  gain_titan\n",
       "gain_dlf     1.000000    0.170479     0.231348    0.229502\n",
       "gain_dabur   0.170479    1.000000     0.218296    0.236206\n",
       "gain_threeM  0.231348    0.218296     1.000000    0.165007\n",
       "gain_titan   0.229502    0.236206     0.165007    1.000000"
      ]
     },
     "execution_count": 20,
     "metadata": {},
     "output_type": "execute_result"
    }
   ],
   "source": [
    "#create correlation matrix of all_df\n",
    "all_df.corr()"
   ]
  },
  {
   "cell_type": "code",
   "execution_count": 21,
   "metadata": {},
   "outputs": [
    {
     "data": {
      "text/plain": [
       "<matplotlib.axes._subplots.AxesSubplot at 0xb815940>"
      ]
     },
     "execution_count": 21,
     "metadata": {},
     "output_type": "execute_result"
    },
    {
     "data": {
      "image/png": "[encoded data removed]",
      "text/plain": [
       "<matplotlib.figure.Figure at 0xb6fafd0>"
      ]
     },
     "metadata": {},
     "output_type": "display_data"
    }
   ],
   "source": [
    "#draw heatmap to view correlation of the four stocks\n",
    "sn.set(rc={\"figure.figsize\": (6, 4)});\n",
    "sn.heatmap( all_df.corr() )"
   ]
  },
  {
   "cell_type": "markdown",
   "metadata": {},
   "source": [
    "#### Conclusion: Dabur India Ltd and Titan Company Ltd are highly correlated when compared to other stocks. That means there is a higher chance that if Dabur stocks gain, the Titan stocks will also gain. Similiarily if one stock loses there is a higher chance that the other stock will also lose."
   ]
  },
  {
   "cell_type": "markdown",
   "metadata": {},
   "source": [
    "## Question 2 - Monthly Returns Analysis"
   ]
  },
  {
   "cell_type": "markdown",
   "metadata": {},
   "source": [
    "## a) Calculate the mean and variance of percentage monthly returns?"
   ]
  },
  {
   "cell_type": "code",
   "execution_count": 22,
   "metadata": {
    "collapsed": true
   },
   "outputs": [],
   "source": [
    "dlf_mon_df = dlf_df.resample('M').mean()\n",
    "dabur_mon_df = dabur_df.resample('M').mean()\n",
    "threeM_mon_df = threeM_df.resample('M').mean()\n",
    "titan_mon_df = titan_df.resample('M').mean()"
   ]
  },
  {
   "cell_type": "code",
   "execution_count": 23,
   "metadata": {
    "collapsed": true
   },
   "outputs": [],
   "source": [
    "#Retain Date column in the dataframe\n",
    "dlf_mon_df['Date'] = dlf_mon_df.index\n",
    "dabur_mon_df['Date'] = dabur_mon_df.index\n",
    "threeM_mon_df['Date'] = threeM_mon_df.index\n",
    "titan_mon_df['Date'] = titan_mon_df.index"
   ]
  },
  {
   "cell_type": "code",
   "execution_count": 24,
   "metadata": {},
   "outputs": [
    {
     "name": "stdout",
     "output_type": "stream",
     "text": [
      "For DLF percentage monthy return, \n",
      " mean: -0.00021922199548057644  \n",
      " variance: 4.642077959621732e-05 \n",
      "\n"
     ]
    }
   ],
   "source": [
    "# mean and variance of dlf\n",
    "mean = dlf_mon_df.gain.mean()\n",
    "var = dlf_mon_df.gain.var()\n",
    "print(\"For DLF percentage monthy return, \\n mean:\", mean, \" \\n variance:\", var, \"\\n\" )"
   ]
  },
  {
   "cell_type": "code",
   "execution_count": 25,
   "metadata": {},
   "outputs": [
    {
     "name": "stdout",
     "output_type": "stream",
     "text": [
      "For Dabur percentage monthy return, \n",
      " mean: -0.0010360869785354908  \n",
      " variance: 6.990954978325018e-06 \n",
      "\n"
     ]
    }
   ],
   "source": [
    "# mean and variance of dabur\n",
    "mean = dabur_mon_df.gain.mean()\n",
    "var = dabur_mon_df.gain.var()\n",
    "print(\"For Dabur percentage monthy return, \\n mean:\", mean, \" \\n variance:\", var, \"\\n\" )"
   ]
  },
  {
   "cell_type": "code",
   "execution_count": 26,
   "metadata": {},
   "outputs": [
    {
     "name": "stdout",
     "output_type": "stream",
     "text": [
      "For 3M percentage monthy return, \n",
      " mean: -0.0011000186841720024  \n",
      " variance: 1.7477469140588772e-05 \n",
      "\n"
     ]
    }
   ],
   "source": [
    "# mean and variance of 3M\n",
    "mean = threeM_mon_df.gain.mean()\n",
    "var = threeM_mon_df.gain.var()\n",
    "print(\"For 3M percentage monthy return, \\n mean:\", mean, \" \\n variance:\", var, \"\\n\" )"
   ]
  },
  {
   "cell_type": "code",
   "execution_count": 27,
   "metadata": {},
   "outputs": [
    {
     "name": "stdout",
     "output_type": "stream",
     "text": [
      "For Titan percentage monthy return, \n",
      " mean: -0.0008069655088533809  \n",
      " variance: 2.1500141636509346e-05 \n",
      "\n"
     ]
    }
   ],
   "source": [
    "# mean and variance of Titan\n",
    "mean = titan_mon_df.gain.mean()\n",
    "var = titan_mon_df.gain.var()\n",
    "print(\"For Titan percentage monthy return, \\n mean:\", mean, \" \\n variance:\", var, \"\\n\" )"
   ]
  },
  {
   "cell_type": "markdown",
   "metadata": {},
   "source": [
    "## b) Which stock has highest volatility as far as monthly returns is concerned? Draw the box‐plot of monthly returns for all stock in one plot."
   ]
  },
  {
   "cell_type": "code",
   "execution_count": 28,
   "metadata": {},
   "outputs": [
    {
     "data": {
      "image/png": "[encoded data removed]",
      "text/plain": [
       "<matplotlib.figure.Figure at 0xba2ff60>"
      ]
     },
     "metadata": {},
     "output_type": "display_data"
    }
   ],
   "source": [
    "stocks = [dlf_mon_df, dabur_mon_df, threeM_mon_df, titan_mon_df]\n",
    "names = ['DLF', 'Dabur', '3M', 'Titan']\n",
    "\n",
    "fig, ax = plt.subplots(sharex=True)\n",
    "# Add a horizontal grid to the plot\n",
    "ax.xaxis.grid(True, linestyle='-', which='major', color='lightgrey', alpha=0.5)\n",
    "ax.set_axisbelow(True)\n",
    "ax.set_title('Percentage monthly returns')\n",
    "\n",
    "for i,l in enumerate(stocks):\n",
    "    ax.boxplot(l.gain, vert=False, positions = [i])\n",
    "\n",
    "ax.set_yticks(range(len(stocks)))\n",
    "ax.set_yticklabels(names)\n",
    "ax.set_xlabel(\"gains\")\n",
    "\n",
    "ax.set_ylim(-0.5, len(stocks)-0.5)\n",
    "\n",
    "plt.show()"
   ]
  },
  {
   "cell_type": "markdown",
   "metadata": {},
   "source": [
    "#### Conclusion: DLF has a larger InterQuartileRange compared to the rest (closely followed by Titan). Hence DLF has the highest volatility."
   ]
  },
  {
   "cell_type": "markdown",
   "metadata": {},
   "source": [
    "## c) Which stock has highest probability of giving a return (monthly) of 2% or more?"
   ]
  },
  {
   "cell_type": "code",
   "execution_count": 29,
   "metadata": {},
   "outputs": [
    {
     "data": {
      "text/plain": [
       "0.0015005776617307287"
      ]
     },
     "execution_count": 29,
     "metadata": {},
     "output_type": "execute_result"
    }
   ],
   "source": [
    "#DLF ltd\n",
    "1 - stats.norm.cdf( 0.02,\n",
    "             loc=dlf_mon_df.gain.mean(),\n",
    "             scale=dlf_mon_df.gain.std())"
   ]
  },
  {
   "cell_type": "code",
   "execution_count": 30,
   "metadata": {},
   "outputs": [
    {
     "data": {
      "text/plain": [
       "8.8817841970012523e-16"
      ]
     },
     "execution_count": 30,
     "metadata": {},
     "output_type": "execute_result"
    }
   ],
   "source": [
    "#Dabur India Ltd\n",
    "1 - stats.norm.cdf( 0.02,\n",
    "             loc=dabur_mon_df.gain.mean(),\n",
    "             scale=dabur_mon_df.gain.std())"
   ]
  },
  {
   "cell_type": "code",
   "execution_count": 31,
   "metadata": {},
   "outputs": [
    {
     "data": {
      "text/plain": [
       "2.2426068635450491e-07"
      ]
     },
     "execution_count": 31,
     "metadata": {},
     "output_type": "execute_result"
    }
   ],
   "source": [
    "#3M India Ltd\n",
    "1 - stats.norm.cdf( 0.02,\n",
    "             loc=threeM_mon_df.gain.mean(),\n",
    "             scale=threeM_mon_df.gain.std())"
   ]
  },
  {
   "cell_type": "code",
   "execution_count": 32,
   "metadata": {},
   "outputs": [
    {
     "data": {
      "text/plain": [
       "3.6060523197489758e-06"
      ]
     },
     "execution_count": 32,
     "metadata": {},
     "output_type": "execute_result"
    }
   ],
   "source": [
    "#Titan Company Ltd\n",
    "1 - stats.norm.cdf( 0.02,\n",
    "             loc=titan_mon_df.gain.mean(),\n",
    "             scale=titan_mon_df.gain.std())"
   ]
  },
  {
   "cell_type": "markdown",
   "metadata": {},
   "source": [
    "#### Conclusion: DLF ltd has the highest probability of 0.15% of giving a return of 2% or more"
   ]
  },
  {
   "cell_type": "markdown",
   "metadata": {},
   "source": [
    "## d) Which stock has highest probability of making a loss (monthly) of 2% or more?"
   ]
  },
  {
   "cell_type": "code",
   "execution_count": 33,
   "metadata": {},
   "outputs": [
    {
     "data": {
      "text/plain": [
       "0.0018464512917959308"
      ]
     },
     "execution_count": 33,
     "metadata": {},
     "output_type": "execute_result"
    }
   ],
   "source": [
    "from scipy import stats\n",
    "#DLF ltd\n",
    "stats.norm.cdf( -0.02,\n",
    "             loc=dlf_mon_df.gain.mean(),\n",
    "             scale=dlf_mon_df.gain.std())"
   ]
  },
  {
   "cell_type": "code",
   "execution_count": 34,
   "metadata": {},
   "outputs": [
    {
     "data": {
      "text/plain": [
       "3.6868469677979768e-13"
      ]
     },
     "execution_count": 34,
     "metadata": {},
     "output_type": "execute_result"
    }
   ],
   "source": [
    "#Dabur India Ltd\n",
    "stats.norm.cdf( -0.02,\n",
    "             loc=dabur_mon_df.gain.mean(),\n",
    "             scale=dabur_mon_df.gain.std())"
   ]
  },
  {
   "cell_type": "code",
   "execution_count": 35,
   "metadata": {},
   "outputs": [
    {
     "data": {
      "text/plain": [
       "3.0792873477194188e-06"
      ]
     },
     "execution_count": 35,
     "metadata": {},
     "output_type": "execute_result"
    }
   ],
   "source": [
    "#3M India Ltd\n",
    "stats.norm.cdf( -0.02,\n",
    "             loc=threeM_mon_df.gain.mean(),\n",
    "             scale=threeM_mon_df.gain.std())"
   ]
  },
  {
   "cell_type": "code",
   "execution_count": 36,
   "metadata": {},
   "outputs": [
    {
     "data": {
      "text/plain": [
       "1.7421194422774455e-05"
      ]
     },
     "execution_count": 36,
     "metadata": {},
     "output_type": "execute_result"
    }
   ],
   "source": [
    "#Titan Company Ltd\n",
    "stats.norm.cdf( -0.02,\n",
    "             loc=titan_mon_df.gain.mean(),\n",
    "             scale=titan_mon_df.gain.std())"
   ]
  },
  {
   "cell_type": "markdown",
   "metadata": {},
   "source": [
    "#### Conclusion: DLF has the highest probability of 0.184% of making a loss of 2% or more"
   ]
  },
  {
   "cell_type": "markdown",
   "metadata": {},
   "source": [
    "## Question 3 - Portfolio Analysis"
   ]
  },
  {
   "cell_type": "markdown",
   "metadata": {},
   "source": [
    "## a) Average monthly returns of the portfolio and variance of monthly returns of the portfolio?"
   ]
  },
  {
   "cell_type": "code",
   "execution_count": 37,
   "metadata": {
    "collapsed": true
   },
   "outputs": [],
   "source": [
    "#Weights of each stock is as below\n",
    "dlf_wt = 0.25\n",
    "dabur_wt = 0.25\n",
    "threeM_wt = 0.25\n",
    "titan_wt = 0.25"
   ]
  },
  {
   "cell_type": "code",
   "execution_count": 38,
   "metadata": {
    "collapsed": true
   },
   "outputs": [],
   "source": [
    "#Function to calculate average monthly returns of a portfolio\n",
    "def avg_monthly_returns(weights,gains):\n",
    "    avg_mon_return=0\n",
    "    for x in range(len(weights)):\n",
    "        avg_mon_return += weights[x]*gains[x]\n",
    "    return avg_mon_return"
   ]
  },
  {
   "cell_type": "code",
   "execution_count": 39,
   "metadata": {},
   "outputs": [
    {
     "name": "stdout",
     "output_type": "stream",
     "text": [
      "Average monthly return of the portfolio:  -0.0007905732917603625 \n",
      "\n"
     ]
    }
   ],
   "source": [
    "#Create list of weights and gains of all the stocks\n",
    "weights = [dlf_wt, dabur_wt, threeM_wt, titan_wt]\n",
    "gains = [dlf_mon_df.gain.mean(), dabur_mon_df.gain.mean(), threeM_mon_df.gain.mean(), titan_mon_df.gain.mean()]\n",
    "\n",
    "#Average monthly return of the portfolio is calculated as below\n",
    "avg_mon_return = avg_monthly_returns(weights, gains)\n",
    "print(\"Average monthly return of the portfolio: \", avg_mon_return, \"\\n\") "
   ]
  },
  {
   "cell_type": "code",
   "execution_count": 40,
   "metadata": {
    "collapsed": true
   },
   "outputs": [],
   "source": [
    "#Variance of monthly return of the portfolio is calculated using the formula - W'_p * S * W_p where,\n",
    "#W'_p = transpose of vector of weights of stocks in portfolios\n",
    "#S = sample covariance matrix\n",
    "#W_p = vector of weights of stocks in portfolios\n",
    "\n",
    "#create weights np array\n",
    "weights_np = np.array([[dlf_wt, dabur_wt, threeM_wt, titan_wt]])\n",
    "\n"
   ]
  },
  {
   "cell_type": "code",
   "execution_count": 41,
   "metadata": {
    "collapsed": true
   },
   "outputs": [],
   "source": [
    "#find the covariance of monthly returns of the portfolio\n",
    "#merge dlf and dabur dataframes on 'Date' to form a new dataframe containing Date, gain_dlf and gain_dabur\n",
    "dlf_dabur_mon_df = dlf_mon_df[['Date', 'gain']].merge(\n",
    "  dabur_mon_df[['Date', 'gain']],\n",
    "  on = ['Date'],\n",
    "  suffixes=('_dlf', '_dabur'), how = 'inner' )"
   ]
  },
  {
   "cell_type": "code",
   "execution_count": 42,
   "metadata": {
    "collapsed": true
   },
   "outputs": [],
   "source": [
    "#merge threeM with dlf_dabur dataframe on 'Date' to form a new dataframe containing Date, gain_dlf, gain_dabur and gain from threeM\n",
    "dlf_dabur_threeM_mon_df = dlf_dabur_mon_df.merge(\n",
    "  threeM_mon_df[['Date', 'gain']],\n",
    "  on = ['Date'], how = 'inner' )"
   ]
  },
  {
   "cell_type": "code",
   "execution_count": 43,
   "metadata": {
    "collapsed": true
   },
   "outputs": [],
   "source": [
    "#merge titan with dlf_dabur_threeM dataframe on 'Date' to form all_df containing Date, gain_dlf, gain_dabur, gain_threeM and gain_titan\n",
    "all_mon_df = dlf_dabur_threeM_mon_df.merge(\n",
    "  titan_mon_df[['Date', 'gain']], suffixes=('_threeM', '_titan'),\n",
    "  on = ['Date'], how = 'inner' )"
   ]
  },
  {
   "cell_type": "code",
   "execution_count": 44,
   "metadata": {},
   "outputs": [
    {
     "data": {
      "text/plain": [
       "array([[  4.64207796e-05,   4.74959930e-06,   6.21801520e-06,\n",
       "          1.09138575e-05],\n",
       "       [  4.74959930e-06,   6.99095498e-06,   3.72610404e-06,\n",
       "          2.71234246e-06],\n",
       "       [  6.21801520e-06,   3.72610404e-06,   1.74774691e-05,\n",
       "          6.48639314e-06],\n",
       "       [  1.09138575e-05,   2.71234246e-06,   6.48639314e-06,\n",
       "          2.15001416e-05]])"
      ]
     },
     "execution_count": 44,
     "metadata": {},
     "output_type": "execute_result"
    }
   ],
   "source": [
    "#create covariance matrix\n",
    "covar_matrix = np.array(all_mon_df.cov())\n",
    "covar_matrix"
   ]
  },
  {
   "cell_type": "code",
   "execution_count": 45,
   "metadata": {
    "collapsed": true
   },
   "outputs": [],
   "source": [
    "#function to find the variance of monthly returns of the portfolio\n",
    "def variance_monthly_returns(weights_np):\n",
    "    return  np.dot(weights_np,np.dot(covar_matrix,weights_np.T))[0][0]"
   ]
  },
  {
   "cell_type": "code",
   "execution_count": 46,
   "metadata": {},
   "outputs": [
    {
     "name": "stdout",
     "output_type": "stream",
     "text": [
      "Variance of monthly returns of the portfolio:  1.01251230397e-05 \n",
      "\n"
     ]
    }
   ],
   "source": [
    "#find the variance of monthly returns of the portfolio\n",
    "\n",
    "variance_mon_returns = variance_monthly_returns(weights_np)\n",
    "print( \"Variance of monthly returns of the portfolio: \" , variance_mon_returns, \"\\n\")"
   ]
  },
  {
   "cell_type": "markdown",
   "metadata": {
    "collapsed": true
   },
   "source": [
    "#### Conclusion: For the monthly returns of the portfolio, average is -0.08% and variance is almost 0."
   ]
  },
  {
   "cell_type": "markdown",
   "metadata": {},
   "source": [
    "## b) If investment on an alternative instrument gives you an average return of 0.5% monthly. Is it wiser to invest in the alternative instrument or the equally weighted portfolio you created above? Can you verify if the above portfolio monthly returns are higher than 0.5%?"
   ]
  },
  {
   "cell_type": "markdown",
   "metadata": {
    "collapsed": true
   },
   "source": [
    "### Answer: As we see from the answer of previous question, average monthly returns of equally weighted portfolio is -0.08%, hence it is wise to invest on an alternative instrument which gives an average return of 0.5% monthly."
   ]
  },
  {
   "cell_type": "markdown",
   "metadata": {},
   "source": [
    "## c) Randomly change the weights of the stocks in the portfolio and check the average returns and the variance of the portfolio. Create at least 10 different weight combinations of stocks and calculate the monthly mean returns and variances of all combination of portfolios."
   ]
  },
  {
   "cell_type": "code",
   "execution_count": 47,
   "metadata": {
    "collapsed": true
   },
   "outputs": [],
   "source": [
    "#function to create different weight combinations of stock which add up to 1\n",
    "import random\n",
    "def create_weights():\n",
    "  wt =[]\n",
    "  for i in range(3):\n",
    "    wt.append(round(random.uniform(0, 1.0-sum(wt)),2))\n",
    "  wt.append(round(1.0-sum(wt),2))\n",
    "  return wt"
   ]
  },
  {
   "cell_type": "code",
   "execution_count": 48,
   "metadata": {},
   "outputs": [
    {
     "name": "stdout",
     "output_type": "stream",
     "text": [
      "Avg and variance details for weights [0.96, 0.0, 0.01, 0.03] \n",
      "\n",
      "Average monthly return of the portfolio:  -0.0002456622677686748 \n",
      "\n",
      "Variance of monthly returns of the portfolio:  4.35544042701e-05 \n",
      "\n",
      "\n",
      "\n",
      "Avg and variance details for weights [0.97, 0.02, 0.01, 0.0] \n",
      "\n",
      "Average monthly return of the portfolio:  -0.000244367262028589 \n",
      "\n",
      "Variance of monthly returns of the portfolio:  4.39882600404e-05 \n",
      "\n",
      "\n",
      "\n",
      "Avg and variance details for weights [0.9, 0.1, 0.0, 0.0] \n",
      "\n",
      "Average monthly return of the portfolio:  -0.0003009084937860679 \n",
      "\n",
      "Variance of monthly returns of the portfolio:  3.85256688972e-05 \n",
      "\n",
      "\n",
      "\n",
      "Avg and variance details for weights [0.53, 0.21, 0.14, 0.12] \n",
      "\n",
      "Average monthly return of the portfolio:  -0.0005846043999436446 \n",
      "\n",
      "Variance of monthly returns of the portfolio:  1.79420552596e-05 \n",
      "\n",
      "\n",
      "\n",
      "Avg and variance details for weights [0.97, 0.02, 0.0, 0.01] \n",
      "\n",
      "Average monthly return of the portfolio:  -0.00024143673027540274 \n",
      "\n",
      "Variance of monthly returns of the portfolio:  4.40793561437e-05 \n",
      "\n",
      "\n",
      "\n",
      "Avg and variance details for weights [0.48, 0.17, 0.21, 0.14] \n",
      "\n",
      "Average monthly return of the portfolio:  -0.0006253404390973039 \n",
      "\n",
      "Variance of monthly returns of the portfolio:  1.6361605548e-05 \n",
      "\n",
      "\n",
      "\n",
      "Avg and variance details for weights [0.52, 0.23, 0.02, 0.23] \n",
      "\n",
      "Average monthly return of the portfolio:  -0.0005598978834327802 \n",
      "\n",
      "Variance of monthly returns of the portfolio:  1.8323303191e-05 \n",
      "\n",
      "\n",
      "\n",
      "Avg and variance details for weights [0.81, 0.03, 0.15, 0.01] \n",
      "\n",
      "Average monthly return of the portfolio:  -0.0003817248834096658 \n",
      "\n",
      "Variance of monthly returns of the portfolio:  3.28315926552e-05 \n",
      "\n",
      "\n",
      "\n",
      "Avg and variance details for weights [0.83, 0.07, 0.07, 0.03] \n",
      "\n",
      "Average monthly return of the portfolio:  -0.00035569061790400436 \n",
      "\n",
      "Variance of monthly returns of the portfolio:  3.40116178875e-05 \n",
      "\n",
      "\n",
      "\n",
      "Avg and variance details for weights [0.2, 0.56, 0.06, 0.18] \n",
      "\n",
      "Average monthly return of the portfolio:  -0.0008353080197199189 \n",
      "\n",
      "Variance of monthly returns of the portfolio:  7.74496701427e-06 \n",
      "\n",
      "\n",
      "\n"
     ]
    }
   ],
   "source": [
    "#Creating 10 different weight combination of stocks and calculating average monthly returns and variance\n",
    "weights = []\n",
    "for i in range(10) :\n",
    "    weights.append(create_weights())\n",
    "    print(\"Avg and variance details for weights\", weights[i], \"\\n\")\n",
    "    avg_mon_return = avg_monthly_returns(weights[i], gains)\n",
    "    print(\"Average monthly return of the portfolio: \", avg_mon_return, \"\\n\") \n",
    "    variance_mon_returns = variance_monthly_returns(np.array([weights[i]]))\n",
    "    print( \"Variance of monthly returns of the portfolio: \" , variance_mon_returns, \"\\n\")\n",
    "    print(\"\\n\")"
   ]
  },
  {
   "cell_type": "markdown",
   "metadata": {},
   "source": [
    "## d) Create a dataframe where the stocks weight, mean and variances of all possible portfolio combinations are stored."
   ]
  },
  {
   "cell_type": "code",
   "execution_count": 49,
   "metadata": {
    "collapsed": true
   },
   "outputs": [],
   "source": [
    "#Creating a dataframe with below columns\n",
    "\n",
    "columns = ['DLF_weight', 'Dabur_weight', '3M_weight', 'Titan_weight', 'mean_return', 'std_returns']\n"
   ]
  },
  {
   "cell_type": "code",
   "execution_count": 50,
   "metadata": {},
   "outputs": [
    {
     "data": {
      "text/html": [
       "<div>\n",
       "<style>\n",
       "    .dataframe thead tr:only-child th {\n",
       "        text-align: right;\n",
       "    }\n",
       "\n",
       "    .dataframe thead th {\n",
       "        text-align: left;\n",
       "    }\n",
       "\n",
       "    .dataframe tbody tr th {\n",
       "        vertical-align: top;\n",
       "    }\n",
       "</style>\n",
       "<table border=\"1\" class=\"dataframe\">\n",
       "  <thead>\n",
       "    <tr style=\"text-align: right;\">\n",
       "      <th></th>\n",
       "      <th>DLF_weight</th>\n",
       "      <th>Dabur_weight</th>\n",
       "      <th>3M_weight</th>\n",
       "      <th>Titan_weight</th>\n",
       "      <th>mean_return</th>\n",
       "      <th>std_returns</th>\n",
       "    </tr>\n",
       "  </thead>\n",
       "  <tbody>\n",
       "    <tr>\n",
       "      <th>0</th>\n",
       "      <td>0.96</td>\n",
       "      <td>0.00</td>\n",
       "      <td>0.01</td>\n",
       "      <td>0.03</td>\n",
       "      <td>-0.000246</td>\n",
       "      <td>0.000044</td>\n",
       "    </tr>\n",
       "    <tr>\n",
       "      <th>1</th>\n",
       "      <td>0.97</td>\n",
       "      <td>0.02</td>\n",
       "      <td>0.01</td>\n",
       "      <td>0.00</td>\n",
       "      <td>-0.000244</td>\n",
       "      <td>0.000044</td>\n",
       "    </tr>\n",
       "    <tr>\n",
       "      <th>2</th>\n",
       "      <td>0.90</td>\n",
       "      <td>0.10</td>\n",
       "      <td>0.00</td>\n",
       "      <td>0.00</td>\n",
       "      <td>-0.000301</td>\n",
       "      <td>0.000039</td>\n",
       "    </tr>\n",
       "    <tr>\n",
       "      <th>3</th>\n",
       "      <td>0.53</td>\n",
       "      <td>0.21</td>\n",
       "      <td>0.14</td>\n",
       "      <td>0.12</td>\n",
       "      <td>-0.000585</td>\n",
       "      <td>0.000018</td>\n",
       "    </tr>\n",
       "    <tr>\n",
       "      <th>4</th>\n",
       "      <td>0.97</td>\n",
       "      <td>0.02</td>\n",
       "      <td>0.00</td>\n",
       "      <td>0.01</td>\n",
       "      <td>-0.000241</td>\n",
       "      <td>0.000044</td>\n",
       "    </tr>\n",
       "    <tr>\n",
       "      <th>5</th>\n",
       "      <td>0.48</td>\n",
       "      <td>0.17</td>\n",
       "      <td>0.21</td>\n",
       "      <td>0.14</td>\n",
       "      <td>-0.000625</td>\n",
       "      <td>0.000016</td>\n",
       "    </tr>\n",
       "    <tr>\n",
       "      <th>6</th>\n",
       "      <td>0.52</td>\n",
       "      <td>0.23</td>\n",
       "      <td>0.02</td>\n",
       "      <td>0.23</td>\n",
       "      <td>-0.000560</td>\n",
       "      <td>0.000018</td>\n",
       "    </tr>\n",
       "    <tr>\n",
       "      <th>7</th>\n",
       "      <td>0.81</td>\n",
       "      <td>0.03</td>\n",
       "      <td>0.15</td>\n",
       "      <td>0.01</td>\n",
       "      <td>-0.000382</td>\n",
       "      <td>0.000033</td>\n",
       "    </tr>\n",
       "    <tr>\n",
       "      <th>8</th>\n",
       "      <td>0.83</td>\n",
       "      <td>0.07</td>\n",
       "      <td>0.07</td>\n",
       "      <td>0.03</td>\n",
       "      <td>-0.000356</td>\n",
       "      <td>0.000034</td>\n",
       "    </tr>\n",
       "    <tr>\n",
       "      <th>9</th>\n",
       "      <td>0.20</td>\n",
       "      <td>0.56</td>\n",
       "      <td>0.06</td>\n",
       "      <td>0.18</td>\n",
       "      <td>-0.000835</td>\n",
       "      <td>0.000008</td>\n",
       "    </tr>\n",
       "    <tr>\n",
       "      <th>10</th>\n",
       "      <td>0.94</td>\n",
       "      <td>0.01</td>\n",
       "      <td>0.05</td>\n",
       "      <td>0.00</td>\n",
       "      <td>-0.000271</td>\n",
       "      <td>0.000042</td>\n",
       "    </tr>\n",
       "    <tr>\n",
       "      <th>11</th>\n",
       "      <td>0.36</td>\n",
       "      <td>0.26</td>\n",
       "      <td>0.13</td>\n",
       "      <td>0.25</td>\n",
       "      <td>-0.000693</td>\n",
       "      <td>0.000013</td>\n",
       "    </tr>\n",
       "    <tr>\n",
       "      <th>12</th>\n",
       "      <td>0.21</td>\n",
       "      <td>0.67</td>\n",
       "      <td>0.09</td>\n",
       "      <td>0.03</td>\n",
       "      <td>-0.000863</td>\n",
       "      <td>0.000008</td>\n",
       "    </tr>\n",
       "    <tr>\n",
       "      <th>13</th>\n",
       "      <td>0.77</td>\n",
       "      <td>0.16</td>\n",
       "      <td>0.03</td>\n",
       "      <td>0.04</td>\n",
       "      <td>-0.000400</td>\n",
       "      <td>0.000030</td>\n",
       "    </tr>\n",
       "    <tr>\n",
       "      <th>14</th>\n",
       "      <td>0.53</td>\n",
       "      <td>0.02</td>\n",
       "      <td>0.25</td>\n",
       "      <td>0.20</td>\n",
       "      <td>-0.000573</td>\n",
       "      <td>0.000020</td>\n",
       "    </tr>\n",
       "    <tr>\n",
       "      <th>15</th>\n",
       "      <td>0.61</td>\n",
       "      <td>0.18</td>\n",
       "      <td>0.08</td>\n",
       "      <td>0.13</td>\n",
       "      <td>-0.000513</td>\n",
       "      <td>0.000022</td>\n",
       "    </tr>\n",
       "    <tr>\n",
       "      <th>16</th>\n",
       "      <td>0.53</td>\n",
       "      <td>0.40</td>\n",
       "      <td>0.01</td>\n",
       "      <td>0.06</td>\n",
       "      <td>-0.000590</td>\n",
       "      <td>0.000017</td>\n",
       "    </tr>\n",
       "    <tr>\n",
       "      <th>17</th>\n",
       "      <td>0.70</td>\n",
       "      <td>0.01</td>\n",
       "      <td>0.18</td>\n",
       "      <td>0.11</td>\n",
       "      <td>-0.000451</td>\n",
       "      <td>0.000027</td>\n",
       "    </tr>\n",
       "    <tr>\n",
       "      <th>18</th>\n",
       "      <td>0.01</td>\n",
       "      <td>0.15</td>\n",
       "      <td>0.68</td>\n",
       "      <td>0.16</td>\n",
       "      <td>-0.001035</td>\n",
       "      <td>0.000011</td>\n",
       "    </tr>\n",
       "    <tr>\n",
       "      <th>19</th>\n",
       "      <td>0.25</td>\n",
       "      <td>0.67</td>\n",
       "      <td>0.02</td>\n",
       "      <td>0.06</td>\n",
       "      <td>-0.000819</td>\n",
       "      <td>0.000008</td>\n",
       "    </tr>\n",
       "  </tbody>\n",
       "</table>\n",
       "</div>"
      ],
      "text/plain": [
       "    DLF_weight  Dabur_weight  3M_weight  Titan_weight  mean_return  \\\n",
       "0         0.96          0.00       0.01          0.03    -0.000246   \n",
       "1         0.97          0.02       0.01          0.00    -0.000244   \n",
       "2         0.90          0.10       0.00          0.00    -0.000301   \n",
       "3         0.53          0.21       0.14          0.12    -0.000585   \n",
       "4         0.97          0.02       0.00          0.01    -0.000241   \n",
       "5         0.48          0.17       0.21          0.14    -0.000625   \n",
       "6         0.52          0.23       0.02          0.23    -0.000560   \n",
       "7         0.81          0.03       0.15          0.01    -0.000382   \n",
       "8         0.83          0.07       0.07          0.03    -0.000356   \n",
       "9         0.20          0.56       0.06          0.18    -0.000835   \n",
       "10        0.94          0.01       0.05          0.00    -0.000271   \n",
       "11        0.36          0.26       0.13          0.25    -0.000693   \n",
       "12        0.21          0.67       0.09          0.03    -0.000863   \n",
       "13        0.77          0.16       0.03          0.04    -0.000400   \n",
       "14        0.53          0.02       0.25          0.20    -0.000573   \n",
       "15        0.61          0.18       0.08          0.13    -0.000513   \n",
       "16        0.53          0.40       0.01          0.06    -0.000590   \n",
       "17        0.70          0.01       0.18          0.11    -0.000451   \n",
       "18        0.01          0.15       0.68          0.16    -0.001035   \n",
       "19        0.25          0.67       0.02          0.06    -0.000819   \n",
       "\n",
       "    std_returns  \n",
       "0      0.000044  \n",
       "1      0.000044  \n",
       "2      0.000039  \n",
       "3      0.000018  \n",
       "4      0.000044  \n",
       "5      0.000016  \n",
       "6      0.000018  \n",
       "7      0.000033  \n",
       "8      0.000034  \n",
       "9      0.000008  \n",
       "10     0.000042  \n",
       "11     0.000013  \n",
       "12     0.000008  \n",
       "13     0.000030  \n",
       "14     0.000020  \n",
       "15     0.000022  \n",
       "16     0.000017  \n",
       "17     0.000027  \n",
       "18     0.000011  \n",
       "19     0.000008  "
      ]
     },
     "execution_count": 50,
     "metadata": {},
     "output_type": "execute_result"
    }
   ],
   "source": [
    "#Adding data for 20 possible combination of weights of 4 stocks to the portfolio dataframe\n",
    "data = []\n",
    "for i in range(20) :\n",
    "    weights.append(create_weights())\n",
    "    avg_mon_return = avg_monthly_returns(weights[i], gains)\n",
    "    variance_mon_returns = variance_monthly_returns(np.array([weights[i]])).item()\n",
    "    row_data = weights[i] + [avg_mon_return, variance_mon_returns ]\n",
    "    data.append(row_data)\n",
    "\n",
    "portfolio_df = pd.DataFrame(columns= columns, data=data)\n",
    "portfolio_df \n"
   ]
  },
  {
   "cell_type": "markdown",
   "metadata": {},
   "source": [
    "## e) Plot the mean and variance of monthly returns of different portfolio combination on a scatter plot. Please explain your observations."
   ]
  },
  {
   "cell_type": "code",
   "execution_count": 51,
   "metadata": {},
   "outputs": [
    {
     "data": {
      "text/plain": [
       "<matplotlib.text.Text at 0xbd7b128>"
      ]
     },
     "execution_count": 51,
     "metadata": {},
     "output_type": "execute_result"
    },
    {
     "data": {
      "image/png": "[encoded data removed]",
      "text/plain": [
       "<matplotlib.figure.Figure at 0xbb50940>"
      ]
     },
     "metadata": {},
     "output_type": "display_data"
    }
   ],
   "source": [
    "# creating a scatter plot\n",
    "fig = plt.figure()\n",
    "plt.scatter( portfolio_df.mean_return, portfolio_df.std_returns)\n",
    "plt.title(\"Mean Return Vs. Std return\")\n",
    "plt.xlabel('mean return ', fontsize=18)\n",
    "plt.ylabel('std return', fontsize=16)"
   ]
  },
  {
   "cell_type": "markdown",
   "metadata": {
    "collapsed": true
   },
   "source": [
    "#### Conclusion: All the points are concentrated in a single region with almost 0 variance and a slightly negative mean close to 0. This shows that the portfolio is least volatile and not very profitable"
   ]
  }
 ],
 "metadata": {
  "kernelspec": {
   "display_name": "Python 3",
   "language": "python",
   "name": "python3"
  },
  "language_info": {
   "codemirror_mode": {
    "name": "ipython",
    "version": 3
   },
   "file_extension": ".py",
   "mimetype": "text/x-python",
   "name": "python",
   "nbconvert_exporter": "python",
   "pygments_lexer": "ipython3",
   "version": "3.6.1"
  },
  "toc": {
   "nav_menu": {},
   "number_sections": true,
   "sideBar": true,
   "skip_h1_title": false,
   "toc_cell": false,
   "toc_position": {},
   "toc_section_display": "block",
   "toc_window_display": false
  }
 },
 "nbformat": 4,
 "nbformat_minor": 2
}
