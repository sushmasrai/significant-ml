{
 "cells": [
  {
   "cell_type": "code",
   "execution_count": 1,
   "metadata": {},
   "outputs": [],
   "source": [
    "# Preset some options...\n",
    "\n",
    "import numpy as np\n",
    "import pandas as pd\n",
    "np.random.seed(12345)\n",
    "import matplotlib.pyplot as plt\n",
    "plt.rc('figure', figsize=(10, 6))\n",
    "PREVIOUS_MAX_ROWS = pd.options.display.max_rows\n",
    "pd.options.display.max_rows = 20\n",
    "np.set_printoptions(precision=4, suppress=True)"
   ]
  },
  {
   "cell_type": "code",
   "execution_count": 2,
   "metadata": {},
   "outputs": [],
   "source": [
    "# Execute code line by line - precious for Jupyter!\n",
    "from IPython.core.interactiveshell import InteractiveShell\n",
    "InteractiveShell.ast_node_interactivity = \"all\""
   ]
  },
  {
   "cell_type": "code",
   "execution_count": 3,
   "metadata": {},
   "outputs": [],
   "source": [
    "#read data from uci data repository\n",
    "target_url = (\"https://archive.ics.uci.edu/ml/machine-learning-\"\n",
    "\"databases/undocumented/connectionist-bench/sonar/sonar.all-data\")\n",
    "\n",
    "#arrange data into list for labels and list of lists for attributes\n",
    "my_data = pd.read_csv(target_url, header=None)"
   ]
  },
  {
   "cell_type": "code",
   "execution_count": 4,
   "metadata": {},
   "outputs": [
    {
     "data": {
      "text/plain": [
       "0     float64\n",
       "1     float64\n",
       "2     float64\n",
       "3     float64\n",
       "4     float64\n",
       "5     float64\n",
       "6     float64\n",
       "7     float64\n",
       "8     float64\n",
       "9     float64\n",
       "       ...   \n",
       "51    float64\n",
       "52    float64\n",
       "53    float64\n",
       "54    float64\n",
       "55    float64\n",
       "56    float64\n",
       "57    float64\n",
       "58    float64\n",
       "59    float64\n",
       "60     object\n",
       "Length: 61, dtype: object"
      ]
     },
     "execution_count": 4,
     "metadata": {},
     "output_type": "execute_result"
    }
   ],
   "source": [
    "# Figure out the types of the columns\n",
    "my_data.dtypes"
   ]
  },
  {
   "cell_type": "code",
   "execution_count": 5,
   "metadata": {},
   "outputs": [
    {
     "name": "stdout",
     "output_type": "stream",
     "text": [
      "Here's a description of Column 4 in the data...\n",
      "\n"
     ]
    },
    {
     "data": {
      "text/plain": [
       "count    208.000000\n",
       "mean       0.053892\n",
       "std        0.046528\n",
       "min        0.005800\n",
       "25%        0.024375\n",
       "50%        0.044050\n",
       "75%        0.064500\n",
       "max        0.426400\n",
       "Name: 3, dtype: float64"
      ]
     },
     "execution_count": 5,
     "metadata": {},
     "output_type": "execute_result"
    },
    {
     "name": "stdout",
     "output_type": "stream",
     "text": [
      "And here's a description of the last classifier column...\n",
      "\n"
     ]
    },
    {
     "data": {
      "text/plain": [
       "M    111\n",
       "R     97\n",
       "Name: 60, dtype: int64"
      ]
     },
     "execution_count": 5,
     "metadata": {},
     "output_type": "execute_result"
    }
   ],
   "source": [
    "print(\"Here's a description of Column 4 in the data...\\n\")\n",
    "my_data[3].describe()\n",
    "print(\"And here's a description of the last classifier column...\\n\")\n",
    "my_data[60].value_counts()"
   ]
  },
  {
   "cell_type": "code",
   "execution_count": 6,
   "metadata": {},
   "outputs": [
    {
     "data": {
      "text/plain": [
       "12688"
      ]
     },
     "execution_count": 6,
     "metadata": {},
     "output_type": "execute_result"
    }
   ],
   "source": [
    "my_data.size"
   ]
  },
  {
   "cell_type": "code",
   "execution_count": 7,
   "metadata": {},
   "outputs": [
    {
     "name": "stdout",
     "output_type": "stream",
     "text": [
      "There are 208 rows and 61 columns in the data\n",
      "\n"
     ]
    }
   ],
   "source": [
    "print(\"There are\", my_data.shape[0], \"rows and\", my_data.shape[1], \"columns in the data\\n\")"
   ]
  },
  {
   "cell_type": "code",
   "execution_count": 9,
   "metadata": {},
   "outputs": [],
   "source": [
    "%matplotlib inline"
   ]
  },
  {
   "cell_type": "code",
   "execution_count": 16,
   "metadata": {},
   "outputs": [
    {
     "data": {
      "text/plain": [
       "((array([-2.7137, -2.4055, -2.23  , -2.1044, -2.0052, -1.9225, -1.8512,\n",
       "         -1.7882, -1.7316, -1.6801, -1.6327, -1.5887, -1.5475, -1.5089,\n",
       "         -1.4723, -1.4377, -1.4046, -1.3731, -1.3428, -1.3138, -1.2858,\n",
       "         -1.2588, -1.2326, -1.2073, -1.1827, -1.1589, -1.1356, -1.113 ,\n",
       "         -1.0909, -1.0694, -1.0483, -1.0277, -1.0075, -0.9877, -0.9683,\n",
       "         -0.9492, -0.9305, -0.9121, -0.894 , -0.8763, -0.8587, -0.8415,\n",
       "         -0.8244, -0.8077, -0.7911, -0.7748, -0.7586, -0.7427, -0.7269,\n",
       "         -0.7113, -0.6959, -0.6807, -0.6656, -0.6506, -0.6359, -0.6212,\n",
       "         -0.6067, -0.5923, -0.578 , -0.5638, -0.5498, -0.5359, -0.522 ,\n",
       "         -0.5083, -0.4946, -0.4811, -0.4676, -0.4542, -0.4409, -0.4277,\n",
       "         -0.4146, -0.4015, -0.3885, -0.3756, -0.3627, -0.3499, -0.3371,\n",
       "         -0.3244, -0.3117, -0.2991, -0.2866, -0.2741, -0.2616, -0.2492,\n",
       "         -0.2368, -0.2244, -0.2121, -0.1998, -0.1876, -0.1753, -0.1631,\n",
       "         -0.1509, -0.1388, -0.1267, -0.1145, -0.1024, -0.0903, -0.0783,\n",
       "         -0.0662, -0.0542, -0.0421, -0.0301, -0.018 , -0.006 ,  0.006 ,\n",
       "          0.018 ,  0.0301,  0.0421,  0.0542,  0.0662,  0.0783,  0.0903,\n",
       "          0.1024,  0.1145,  0.1267,  0.1388,  0.1509,  0.1631,  0.1753,\n",
       "          0.1876,  0.1998,  0.2121,  0.2244,  0.2368,  0.2492,  0.2616,\n",
       "          0.2741,  0.2866,  0.2991,  0.3117,  0.3244,  0.3371,  0.3499,\n",
       "          0.3627,  0.3756,  0.3885,  0.4015,  0.4146,  0.4277,  0.4409,\n",
       "          0.4542,  0.4676,  0.4811,  0.4946,  0.5083,  0.522 ,  0.5359,\n",
       "          0.5498,  0.5638,  0.578 ,  0.5923,  0.6067,  0.6212,  0.6359,\n",
       "          0.6506,  0.6656,  0.6807,  0.6959,  0.7113,  0.7269,  0.7427,\n",
       "          0.7586,  0.7748,  0.7911,  0.8077,  0.8244,  0.8415,  0.8587,\n",
       "          0.8763,  0.894 ,  0.9121,  0.9305,  0.9492,  0.9683,  0.9877,\n",
       "          1.0075,  1.0277,  1.0483,  1.0694,  1.0909,  1.113 ,  1.1356,\n",
       "          1.1589,  1.1827,  1.2073,  1.2326,  1.2588,  1.2858,  1.3138,\n",
       "          1.3428,  1.3731,  1.4046,  1.4377,  1.4723,  1.5089,  1.5475,\n",
       "          1.5887,  1.6327,  1.6801,  1.7316,  1.7882,  1.8512,  1.9225,\n",
       "          2.0052,  2.1044,  2.23  ,  2.4055,  2.7137]),\n",
       "  array([ 0.0058,  0.0061,  0.0061,  0.0062,  0.0062,  0.0064,  0.007 ,\n",
       "          0.0076,  0.0076,  0.0078,  0.0082,  0.0084,  0.0097,  0.0108,\n",
       "          0.0108,  0.0108,  0.0113,  0.0128,  0.013 ,  0.0139,  0.0141,\n",
       "          0.0141,  0.0152,  0.0173,  0.0174,  0.0175,  0.0177,  0.019 ,\n",
       "          0.0191,  0.0195,  0.0203,  0.0205,  0.0206,  0.0207,  0.021 ,\n",
       "          0.0211,  0.0217,  0.0218,  0.0225,  0.0225,  0.0226,  0.0227,\n",
       "          0.0228,  0.0229,  0.023 ,  0.0232,  0.0232,  0.0236,  0.0237,\n",
       "          0.0239,  0.0239,  0.0243,  0.0244,  0.0245,  0.0247,  0.025 ,\n",
       "          0.025 ,  0.0257,  0.0257,  0.0263,  0.0272,  0.0272,  0.0278,\n",
       "          0.0285,  0.0286,  0.0289,  0.0292,  0.0293,  0.0297,  0.0301,\n",
       "          0.0304,  0.0311,  0.0313,  0.0319,  0.0321,  0.033 ,  0.0333,\n",
       "          0.0336,  0.0339,  0.0346,  0.035 ,  0.0358,  0.0359,  0.0363,\n",
       "          0.0371,  0.0372,  0.0375,  0.0375,  0.0376,  0.0378,  0.0384,\n",
       "          0.0386,  0.0386,  0.0387,  0.0387,  0.0394,  0.0394,  0.0399,\n",
       "          0.0406,  0.0411,  0.0415,  0.0428,  0.0432,  0.044 ,  0.0441,\n",
       "          0.0444,  0.0445,  0.0445,  0.0449,  0.045 ,  0.045 ,  0.0452,\n",
       "          0.0456,  0.0456,  0.046 ,  0.0469,  0.0475,  0.0479,  0.0481,\n",
       "          0.0487,  0.0489,  0.0489,  0.0494,  0.0494,  0.0505,  0.0516,\n",
       "          0.0518,  0.0519,  0.0521,  0.0525,  0.0534,  0.0539,  0.0547,\n",
       "          0.0551,  0.0554,  0.056 ,  0.0561,  0.0564,  0.0566,  0.0569,\n",
       "          0.0569,  0.057 ,  0.0581,  0.0583,  0.0596,  0.06  ,  0.0604,\n",
       "          0.0608,  0.0608,  0.0608,  0.0618,  0.0622,  0.0624,  0.0627,\n",
       "          0.0627,  0.0633,  0.0681,  0.0688,  0.0689,  0.0698,  0.0707,\n",
       "          0.0713,  0.0749,  0.076 ,  0.0768,  0.0774,  0.0783,  0.0793,\n",
       "          0.0809,  0.0813,  0.0818,  0.0818,  0.0824,  0.0831,  0.0837,\n",
       "          0.0842,  0.0844,  0.0848,  0.0889,  0.0898,  0.0921,  0.1008,\n",
       "          0.1021,  0.1021,  0.1036,  0.105 ,  0.1083,  0.1085,  0.1096,\n",
       "          0.1132,  0.118 ,  0.1203,  0.1206,  0.1229,  0.1234,  0.1252,\n",
       "          0.127 ,  0.1408,  0.1421,  0.1484,  0.1496,  0.1497,  0.1498,\n",
       "          0.1644,  0.166 ,  0.1732,  0.2604,  0.4264])),\n",
       " (0.040092840888356414, 0.053892307692307684, 0.85444724090785074))"
      ]
     },
     "execution_count": 16,
     "metadata": {},
     "output_type": "execute_result"
    },
    {
     "data": {
      "image/png": "[encoded data removed]",
      "text/plain": [
       "<matplotlib.figure.Figure at 0x1a2155d1d0>"
      ]
     },
     "metadata": {},
     "output_type": "display_data"
    },
    {
     "data": {
      "text/plain": [
       "{'boxes': [<matplotlib.lines.Line2D at 0x1a2170b198>],\n",
       " 'caps': [<matplotlib.lines.Line2D at 0x1a2170bc18>,\n",
       "  <matplotlib.lines.Line2D at 0x1a217130b8>],\n",
       " 'fliers': [<matplotlib.lines.Line2D at 0x1a21713978>],\n",
       " 'means': [],\n",
       " 'medians': [<matplotlib.lines.Line2D at 0x1a21713518>],\n",
       " 'whiskers': [<matplotlib.lines.Line2D at 0x1a2170b320>,\n",
       "  <matplotlib.lines.Line2D at 0x1a2170b7b8>]}"
      ]
     },
     "execution_count": 16,
     "metadata": {},
     "output_type": "execute_result"
    },
    {
     "data": {
      "image/png": "[encoded data removed]",
      "text/plain": [
       "<matplotlib.figure.Figure at 0x1a215ca128>"
      ]
     },
     "metadata": {},
     "output_type": "display_data"
    }
   ],
   "source": [
    "import scipy.stats as stats\n",
    "import pylab\n",
    "\n",
    "stats.probplot(my_data[3], dist=\"norm\", plot=pylab)\n",
    "pylab.show()\n",
    "\n",
    "plt.boxplot(my_data[3])"
   ]
  },
  {
   "cell_type": "code",
   "execution_count": null,
   "metadata": {},
   "outputs": [],
   "source": []
  }
 ],
 "metadata": {
  "kernelspec": {
   "display_name": "Python 3",
   "language": "python",
   "name": "python3"
  },
  "language_info": {
   "codemirror_mode": {
    "name": "ipython",
    "version": 3
   },
   "file_extension": ".py",
   "mimetype": "text/x-python",
   "name": "python",
   "nbconvert_exporter": "python",
   "pygments_lexer": "ipython3",
   "version": "3.6.4"
  }
 },
 "nbformat": 4,
 "nbformat_minor": 2
}
