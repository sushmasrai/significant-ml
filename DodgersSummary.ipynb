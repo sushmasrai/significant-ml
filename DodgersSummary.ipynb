{
 "cells": [
  {
   "cell_type": "code",
   "execution_count": 1,
   "metadata": {
    "collapsed": true
   },
   "outputs": [],
   "source": [
    "trafficPath = \"file:///Users/HP/Spark PS/Dodgers.data\"\n",
    "gamesPath = \"file:///Users/HP/Spark PS/Dodgers.events\""
   ]
  },
  {
   "cell_type": "code",
   "execution_count": 2,
   "metadata": {},
   "outputs": [
    {
     "data": {
      "text/plain": [
       "[u'4/10/2005 0:00,-1',\n",
       " u'4/10/2005 0:05,-1',\n",
       " u'4/10/2005 0:10,-1',\n",
       " u'4/10/2005 0:15,-1',\n",
       " u'4/10/2005 0:20,-1',\n",
       " u'4/10/2005 0:25,-1',\n",
       " u'4/10/2005 0:30,-1',\n",
       " u'4/10/2005 0:35,-1',\n",
       " u'4/10/2005 0:40,-1',\n",
       " u'4/10/2005 0:45,-1']"
      ]
     },
     "execution_count": 2,
     "metadata": {},
     "output_type": "execute_result"
    }
   ],
   "source": [
    "traffic = sc.textFile(trafficPath)\n",
    "traffic.take(10)"
   ]
  },
  {
   "cell_type": "code",
   "execution_count": 3,
   "metadata": {},
   "outputs": [
    {
     "data": {
      "text/plain": [
       "[u'04/12/05,13:10:00,16:23:00,55892,San Francisco,W 9-8\\ufffd',\n",
       " u'04/13/05,19:10:00,21:48:00,46514,San Francisco,W 4-1\\ufffd',\n",
       " u'04/15/05,19:40:00,21:48:00,51816,San Diego,W 4-0\\ufffd',\n",
       " u'04/16/05,19:10:00,21:52:00,54704,San Diego,W 8-3\\ufffd',\n",
       " u'04/17/05,13:10:00,15:31:00,53402,San Diego,W 6-0\\ufffd',\n",
       " u'04/25/05,19:10:00,21:33:00,36876,Arizona,L 4-2\\ufffd',\n",
       " u'04/26/05,19:10:00,22:00:00,44486,Arizona,L 3-2\\ufffd',\n",
       " u'04/27/05,19:10:00,22:17:00,54387,Arizona,L 6-3\\ufffd',\n",
       " u'04/29/05,19:40:00,22:01:00,40150,Colorado,W 6-3\\ufffd',\n",
       " u'04/30/05,19:10:00,21:45:00,54123,Colorado,W 6-2\\ufffd']"
      ]
     },
     "execution_count": 3,
     "metadata": {},
     "output_type": "execute_result"
    }
   ],
   "source": [
    "games = sc.textFile(gamesPath)\n",
    "games.take(10)"
   ]
  },
  {
   "cell_type": "code",
   "execution_count": 4,
   "metadata": {
    "collapsed": true
   },
   "outputs": [],
   "source": [
    "from datetime import datetime \n",
    "import csv\n",
    "from StringIO import StringIO\n",
    "\n",
    "def parseTraffic(row):\n",
    "    DATE_FMT = \"%m/%d/%Y %H:%M\"\n",
    "    row = row.split(\",\")\n",
    "    row[0] = datetime.strptime(row[0],DATE_FMT)\n",
    "    row[1] = int(row[1])\n",
    "    return (row[0],row[1])"
   ]
  },
  {
   "cell_type": "code",
   "execution_count": 5,
   "metadata": {
    "collapsed": true
   },
   "outputs": [],
   "source": [
    "# Creating a Pair RDD \n",
    "trafficParsed = traffic.map(parseTraffic)"
   ]
  },
  {
   "cell_type": "code",
   "execution_count": 6,
   "metadata": {},
   "outputs": [
    {
     "data": {
      "text/plain": [
       "[(datetime.datetime(2005, 4, 10, 0, 0), -1),\n",
       " (datetime.datetime(2005, 4, 10, 0, 5), -1),\n",
       " (datetime.datetime(2005, 4, 10, 0, 10), -1),\n",
       " (datetime.datetime(2005, 4, 10, 0, 15), -1),\n",
       " (datetime.datetime(2005, 4, 10, 0, 20), -1),\n",
       " (datetime.datetime(2005, 4, 10, 0, 25), -1),\n",
       " (datetime.datetime(2005, 4, 10, 0, 30), -1),\n",
       " (datetime.datetime(2005, 4, 10, 0, 35), -1),\n",
       " (datetime.datetime(2005, 4, 10, 0, 40), -1),\n",
       " (datetime.datetime(2005, 4, 10, 0, 45), -1)]"
      ]
     },
     "execution_count": 6,
     "metadata": {},
     "output_type": "execute_result"
    }
   ],
   "source": [
    "trafficParsed.take(10)"
   ]
  },
  {
   "cell_type": "code",
   "execution_count": 7,
   "metadata": {
    "collapsed": true
   },
   "outputs": [],
   "source": [
    "# Summarizing a Pair RDD \n",
    "dailyTrend = trafficParsed.map(lambda x: (x[0].date(),x[1]))\\\n",
    "                        .reduceByKey(lambda x,y:x+y)"
   ]
  },
  {
   "cell_type": "code",
   "execution_count": 8,
   "metadata": {},
   "outputs": [
    {
     "data": {
      "text/plain": [
       "[(datetime.date(2005, 8, 9), 5958),\n",
       " (datetime.date(2005, 6, 29), 5437),\n",
       " (datetime.date(2005, 8, 17), 6673),\n",
       " (datetime.date(2005, 9, 6), 6402),\n",
       " (datetime.date(2005, 5, 22), 4977),\n",
       " (datetime.date(2005, 6, 21), 5759),\n",
       " (datetime.date(2005, 7, 14), 5338),\n",
       " (datetime.date(2005, 8, 25), 6463),\n",
       " (datetime.date(2005, 9, 14), 5631),\n",
       " (datetime.date(2005, 5, 30), 3973)]"
      ]
     },
     "execution_count": 8,
     "metadata": {},
     "output_type": "execute_result"
    }
   ],
   "source": [
    "dailyTrend.take(10)"
   ]
  },
  {
   "cell_type": "code",
   "execution_count": 9,
   "metadata": {},
   "outputs": [
    {
     "data": {
      "text/plain": [
       "[(datetime.date(2005, 7, 28), 7661),\n",
       " (datetime.date(2005, 7, 29), 7499),\n",
       " (datetime.date(2005, 8, 12), 7287),\n",
       " (datetime.date(2005, 7, 27), 7238),\n",
       " (datetime.date(2005, 9, 23), 7175),\n",
       " (datetime.date(2005, 7, 26), 7163),\n",
       " (datetime.date(2005, 5, 20), 7119),\n",
       " (datetime.date(2005, 8, 11), 7110),\n",
       " (datetime.date(2005, 9, 8), 7107),\n",
       " (datetime.date(2005, 9, 7), 7082)]"
      ]
     },
     "execution_count": 9,
     "metadata": {},
     "output_type": "execute_result"
    }
   ],
   "source": [
    "dailyTrend.sortBy(lambda x:-x[1]).take(10)"
   ]
  },
  {
   "cell_type": "code",
   "execution_count": 10,
   "metadata": {},
   "outputs": [
    {
     "data": {
      "text/plain": [
       "[(datetime.date(2005, 4, 12), u'San Francisco'),\n",
       " (datetime.date(2005, 4, 13), u'San Francisco'),\n",
       " (datetime.date(2005, 4, 15), u'San Diego'),\n",
       " (datetime.date(2005, 4, 16), u'San Diego'),\n",
       " (datetime.date(2005, 4, 17), u'San Diego'),\n",
       " (datetime.date(2005, 4, 25), u'Arizona'),\n",
       " (datetime.date(2005, 4, 26), u'Arizona'),\n",
       " (datetime.date(2005, 4, 27), u'Arizona'),\n",
       " (datetime.date(2005, 4, 29), u'Colorado'),\n",
       " (datetime.date(2005, 4, 30), u'Colorado')]"
      ]
     },
     "execution_count": 10,
     "metadata": {},
     "output_type": "execute_result"
    }
   ],
   "source": [
    "# Joining with Games \n",
    "\n",
    "def parseGames(row):\n",
    "    DATE_FMT = \"%m/%d/%y\"\n",
    "    row = row.split(\",\")\n",
    "    row[0] = datetime.strptime(row[0],DATE_FMT).date()\n",
    "    return (row[0],row[4])\n",
    "\n",
    "gamesParsed = games.map(parseGames)\n",
    "gamesParsed.take(10)"
   ]
  },
  {
   "cell_type": "code",
   "execution_count": 15,
   "metadata": {
    "collapsed": true
   },
   "outputs": [],
   "source": [
    "dailyTrendCombined = dailyTrend.leftOuterJoin(gamesParsed)"
   ]
  },
  {
   "cell_type": "code",
   "execution_count": 16,
   "metadata": {},
   "outputs": [
    {
     "data": {
      "text/plain": [
       "[(datetime.date(2005, 9, 24), (5848, u'Pittsburgh')),\n",
       " (datetime.date(2005, 8, 11), (7110, u'Philadelphia')),\n",
       " (datetime.date(2005, 6, 21), (5759, None)),\n",
       " (datetime.date(2005, 5, 24), (4138, None)),\n",
       " (datetime.date(2005, 6, 13), (5974, None)),\n",
       " (datetime.date(2005, 7, 18), (5994, None)),\n",
       " (datetime.date(2005, 4, 23), (5366, None)),\n",
       " (datetime.date(2005, 6, 29), (5437, u'San Diego')),\n",
       " (datetime.date(2005, 8, 15), (5329, None)),\n",
       " (datetime.date(2005, 6, 1), (6520, u'Chicago Cubs'))]"
      ]
     },
     "execution_count": 16,
     "metadata": {},
     "output_type": "execute_result"
    }
   ],
   "source": [
    "dailyTrendCombined.take(10)"
   ]
  },
  {
   "cell_type": "code",
   "execution_count": 17,
   "metadata": {
    "collapsed": true
   },
   "outputs": [],
   "source": [
    "def checkGameDay(row):\n",
    "    if row[1][1] == None:\n",
    "        return (row[0],row[1][1],\"Regular Day\",row[1][0])\n",
    "    else:\n",
    "        return (row[0],row[1][1],\"Game Day\",row[1][0])\n",
    "dailyTrendbyGames = dailyTrendCombined.map(checkGameDay)"
   ]
  },
  {
   "cell_type": "code",
   "execution_count": 18,
   "metadata": {},
   "outputs": [
    {
     "data": {
      "text/plain": [
       "[(datetime.date(2005, 9, 24), u'Pittsburgh', 'Game Day', 5848),\n",
       " (datetime.date(2005, 8, 11), u'Philadelphia', 'Game Day', 7110),\n",
       " (datetime.date(2005, 6, 21), None, 'Regular Day', 5759),\n",
       " (datetime.date(2005, 5, 24), None, 'Regular Day', 4138),\n",
       " (datetime.date(2005, 6, 13), None, 'Regular Day', 5974),\n",
       " (datetime.date(2005, 7, 18), None, 'Regular Day', 5994),\n",
       " (datetime.date(2005, 4, 23), None, 'Regular Day', 5366),\n",
       " (datetime.date(2005, 6, 29), u'San Diego', 'Game Day', 5437),\n",
       " (datetime.date(2005, 8, 15), None, 'Regular Day', 5329),\n",
       " (datetime.date(2005, 6, 1), u'Chicago Cubs', 'Game Day', 6520)]"
      ]
     },
     "execution_count": 18,
     "metadata": {},
     "output_type": "execute_result"
    }
   ],
   "source": [
    "dailyTrendbyGames.take(10)"
   ]
  },
  {
   "cell_type": "code",
   "execution_count": 19,
   "metadata": {},
   "outputs": [
    {
     "data": {
      "text/plain": [
       "[(datetime.date(2005, 7, 28), u'Cincinnati', 'Game Day', 7661),\n",
       " (datetime.date(2005, 7, 29), u'St. Louis', 'Game Day', 7499),\n",
       " (datetime.date(2005, 8, 12), u'NY Mets', 'Game Day', 7287),\n",
       " (datetime.date(2005, 7, 27), u'Cincinnati', 'Game Day', 7238),\n",
       " (datetime.date(2005, 9, 23), u'Pittsburgh', 'Game Day', 7175),\n",
       " (datetime.date(2005, 7, 26), u'Cincinnati', 'Game Day', 7163),\n",
       " (datetime.date(2005, 5, 20), u'LA Angels', 'Game Day', 7119),\n",
       " (datetime.date(2005, 8, 11), u'Philadelphia', 'Game Day', 7110),\n",
       " (datetime.date(2005, 9, 8), None, 'Regular Day', 7107),\n",
       " (datetime.date(2005, 9, 7), u'San Francisco', 'Game Day', 7082)]"
      ]
     },
     "execution_count": 19,
     "metadata": {},
     "output_type": "execute_result"
    }
   ],
   "source": [
    "dailyTrendbyGames.sortBy(lambda x:-x[3]).take(10)"
   ]
  },
  {
   "cell_type": "code",
   "execution_count": 20,
   "metadata": {},
   "outputs": [
    {
     "data": {
      "text/plain": [
       "[('Game Day', 5948), ('Regular Day', 5411)]"
      ]
     },
     "execution_count": 20,
     "metadata": {},
     "output_type": "execute_result"
    }
   ],
   "source": [
    "\n",
    "# Average on Game Day vs Non Game day \n",
    "\n",
    "dailyTrendbyGames.map(lambda x:(x[2],x[3]))\\\n",
    "                .combineByKey(lambda value : (value,1),\\\n",
    "              lambda acc,value:(acc[0]+value,acc[1]+1),\\\n",
    "              lambda acc1,acc2:(acc1[0]+acc2[0],acc1[1]+acc2[1]))\\\n",
    "              .mapValues(lambda x:x[0]/x[1])\\\n",
    "              .collect()"
   ]
  },
  {
   "cell_type": "code",
   "execution_count": null,
   "metadata": {
    "collapsed": true
   },
   "outputs": [],
   "source": []
  },
  {
   "cell_type": "code",
   "execution_count": null,
   "metadata": {
    "collapsed": true
   },
   "outputs": [],
   "source": []
  },
  {
   "cell_type": "code",
   "execution_count": null,
   "metadata": {
    "collapsed": true
   },
   "outputs": [],
   "source": []
  },
  {
   "cell_type": "code",
   "execution_count": null,
   "metadata": {
    "collapsed": true
   },
   "outputs": [],
   "source": []
  },
  {
   "cell_type": "code",
   "execution_count": null,
   "metadata": {
    "collapsed": true
   },
   "outputs": [],
   "source": []
  },
  {
   "cell_type": "code",
   "execution_count": null,
   "metadata": {
    "collapsed": true
   },
   "outputs": [],
   "source": []
  },
  {
   "cell_type": "code",
   "execution_count": null,
   "metadata": {
    "collapsed": true
   },
   "outputs": [],
   "source": []
  }
 ],
 "metadata": {
  "kernelspec": {
   "display_name": "Python 3",
   "language": "python",
   "name": "python3"
  },
  "language_info": {
   "codemirror_mode": {
    "name": "ipython",
    "version": 3
   },
   "file_extension": ".py",
   "mimetype": "text/x-python",
   "name": "python",
   "nbconvert_exporter": "python",
   "pygments_lexer": "ipython3",
   "version": "3.6.1"
  },
  "toc": {
   "nav_menu": {},
   "number_sections": true,
   "sideBar": true,
   "skip_h1_title": false,
   "toc_cell": false,
   "toc_position": {},
   "toc_section_display": "block",
   "toc_window_display": false
  }
 },
 "nbformat": 4,
 "nbformat_minor": 1
}
